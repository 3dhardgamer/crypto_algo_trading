{
 "cells": [
  {
   "cell_type": "code",
   "execution_count": 8,
   "metadata": {
    "collapsed": true
   },
   "outputs": [],
   "source": [
    "import bt\n",
    "import pandas as pd\n",
    "import seaborn as sns\n",
    "import datetime"
   ]
  },
  {
   "cell_type": "code",
   "execution_count": 9,
   "metadata": {},
   "outputs": [
    {
     "name": "stdout",
     "output_type": "stream",
     "text": [
      "Populating the interactive namespace from numpy and matplotlib\n"
     ]
    }
   ],
   "source": [
    "%pylab inline"
   ]
  },
  {
   "cell_type": "markdown",
   "metadata": {},
   "source": [
    "## Downloading Historical data\n",
    "First let's download some historical data from Poloniex. With this API you can only fetch one year at a time."
   ]
  },
  {
   "cell_type": "code",
   "execution_count": 158,
   "metadata": {
    "collapsed": true
   },
   "outputs": [],
   "source": [
    "end = datetime.datetime.now()\n",
    "start = end - datetime.timedelta(days=364)\n",
    "pairs = ['USDT_BTC','USDT_ETH', 'USDT_LTC']\n",
    "\n",
    "def get_price_table(pair, start, end):\n",
    "    \"\"\"\n",
    "    Poloniex API only returns maximum of 300000 trades or 1 year for each pair.\n",
    "    :returns:\n",
    "    dictionary with one dataframe per pair\n",
    "    \"\"\"\n",
    "    print('Downloading {} from {} to {}.'.format(pair,start,end))\n",
    "    \n",
    "    df = pd.read_json('https://poloniex.com/public?command=returnTradeHistory&currencyPair={}&start={}&end={}'.format(pair, int(start.timestamp()), int(end.timestamp())))\n",
    "    df.set_index(['date'], inplace=True)\n",
    "    print('fetched {} {} trades.'.format(df.size,pair))\n",
    "    df = df.resample('1T').mean() #resample in windows of 1 minute\n",
    "    df[pair] = df.rate\n",
    "    for cname in df.columns:\n",
    "        if cname not in pairs:\n",
    "            del df[cname]\n",
    "\n",
    "    return df\n",
    "\n",
    "def concatenate_series(rates):\n",
    "    \"\"\"\n",
    "    :parameters:\n",
    "    - rates: dictionary with the pairs dataframes\n",
    "    \"\"\"\n",
    "    for k, df in rates.items(): #Solve non-unique indices\n",
    "        rates[k] = df.loc[~df.index.duplicated(keep='first')]\n",
    "    data = pd.concat(rates, axis=1)\n",
    "    data.columns = data.columns.droplevel(0)\n",
    "    print(data.columns)\n",
    "    data.columns = [name.lower() for name in data.columns] #convenient to save to PGSQL\n",
    "    return data\n",
    "\n",
    "def extend_history(pair, df):\n",
    "    End = df.index.min()\n",
    "    Start = end - datetime.timedelta(days=364)\n",
    "    dfextra = get_price_table(pair,Start,End)\n",
    "    df = df.append(dfextra)#pd.concat([df,dfextra], axis=0)\n",
    "    return df"
   ]
  },
  {
   "cell_type": "markdown",
   "metadata": {},
   "source": [
    "### Downloading the data"
   ]
  },
  {
   "cell_type": "code",
   "execution_count": 152,
   "metadata": {},
   "outputs": [
    {
     "name": "stdout",
     "output_type": "stream",
     "text": [
      "Downloading USDT_BTC from 2016-07-10 12:42:48.887624 to 2017-07-09 12:42:48.887624.\n",
      "fetched 300000 USDT_BTC trades.\n",
      "Downloading USDT_ETH from 2016-07-10 12:42:48.887624 to 2017-07-09 12:42:48.887624.\n",
      "fetched 300000 USDT_ETH trades.\n",
      "Downloading USDT_LTC from 2016-07-10 12:42:48.887624 to 2017-07-09 12:42:48.887624.\n",
      "fetched 300000 USDT_LTC trades.\n"
     ]
    }
   ],
   "source": [
    "rates = {pair: get_price_table(pair, start, end) for pair in pairs}"
   ]
  },
  {
   "cell_type": "code",
   "execution_count": 160,
   "metadata": {},
   "outputs": [
    {
     "data": {
      "text/html": [
       "<div>\n",
       "<style>\n",
       "    .dataframe thead tr:only-child th {\n",
       "        text-align: right;\n",
       "    }\n",
       "\n",
       "    .dataframe thead th {\n",
       "        text-align: left;\n",
       "    }\n",
       "\n",
       "    .dataframe tbody tr th {\n",
       "        vertical-align: top;\n",
       "    }\n",
       "</style>\n",
       "<table border=\"1\" class=\"dataframe\">\n",
       "  <thead>\n",
       "    <tr style=\"text-align: right;\">\n",
       "      <th></th>\n",
       "      <th>USDT_ETH</th>\n",
       "    </tr>\n",
       "    <tr>\n",
       "      <th>date</th>\n",
       "      <th></th>\n",
       "    </tr>\n",
       "  </thead>\n",
       "  <tbody>\n",
       "    <tr>\n",
       "      <th>2017-07-05 18:48:00</th>\n",
       "      <td>269.980000</td>\n",
       "    </tr>\n",
       "    <tr>\n",
       "      <th>2017-07-05 18:49:00</th>\n",
       "      <td>270.045142</td>\n",
       "    </tr>\n",
       "    <tr>\n",
       "      <th>2017-07-05 18:50:00</th>\n",
       "      <td>270.434781</td>\n",
       "    </tr>\n",
       "    <tr>\n",
       "      <th>2017-07-05 18:51:00</th>\n",
       "      <td>270.908357</td>\n",
       "    </tr>\n",
       "    <tr>\n",
       "      <th>2017-07-05 18:52:00</th>\n",
       "      <td>270.713774</td>\n",
       "    </tr>\n",
       "  </tbody>\n",
       "</table>\n",
       "</div>"
      ],
      "text/plain": [
       "                       USDT_ETH\n",
       "date                           \n",
       "2017-07-05 18:48:00  269.980000\n",
       "2017-07-05 18:49:00  270.045142\n",
       "2017-07-05 18:50:00  270.434781\n",
       "2017-07-05 18:51:00  270.908357\n",
       "2017-07-05 18:52:00  270.713774"
      ]
     },
     "execution_count": 160,
     "metadata": {},
     "output_type": "execute_result"
    }
   ],
   "source": [
    "rates['USDT_ETH'].head()"
   ]
  },
  {
   "cell_type": "code",
   "execution_count": 129,
   "metadata": {},
   "outputs": [
    {
     "data": {
      "text/html": [
       "<div>\n",
       "<style>\n",
       "    .dataframe thead tr:only-child th {\n",
       "        text-align: right;\n",
       "    }\n",
       "\n",
       "    .dataframe thead th {\n",
       "        text-align: left;\n",
       "    }\n",
       "\n",
       "    .dataframe tbody tr th {\n",
       "        vertical-align: top;\n",
       "    }\n",
       "</style>\n",
       "<table border=\"1\" class=\"dataframe\">\n",
       "  <thead>\n",
       "    <tr style=\"text-align: right;\">\n",
       "      <th></th>\n",
       "      <th>USDT_ETH</th>\n",
       "    </tr>\n",
       "    <tr>\n",
       "      <th>date</th>\n",
       "      <th></th>\n",
       "    </tr>\n",
       "  </thead>\n",
       "  <tbody>\n",
       "    <tr>\n",
       "      <th>2017-07-09 15:19:00</th>\n",
       "      <td>240.439428</td>\n",
       "    </tr>\n",
       "    <tr>\n",
       "      <th>2017-07-09 15:20:00</th>\n",
       "      <td>241.136930</td>\n",
       "    </tr>\n",
       "    <tr>\n",
       "      <th>2017-07-09 15:21:00</th>\n",
       "      <td>241.209091</td>\n",
       "    </tr>\n",
       "    <tr>\n",
       "      <th>2017-07-09 15:22:00</th>\n",
       "      <td>241.444967</td>\n",
       "    </tr>\n",
       "    <tr>\n",
       "      <th>2017-07-09 15:23:00</th>\n",
       "      <td>241.237650</td>\n",
       "    </tr>\n",
       "  </tbody>\n",
       "</table>\n",
       "</div>"
      ],
      "text/plain": [
       "                       USDT_ETH\n",
       "date                           \n",
       "2017-07-09 15:19:00  240.439428\n",
       "2017-07-09 15:20:00  241.136930\n",
       "2017-07-09 15:21:00  241.209091\n",
       "2017-07-09 15:22:00  241.444967\n",
       "2017-07-09 15:23:00  241.237650"
      ]
     },
     "execution_count": 129,
     "metadata": {},
     "output_type": "execute_result"
    }
   ],
   "source": [
    "rates['USDT_ETH'].tail()"
   ]
  },
  {
   "cell_type": "markdown",
   "metadata": {},
   "source": [
    "### Extending our history\n",
    "\n",
    "Now we can extend the series with 50000 extra trades for each pair. The series won't grow by this much because we are aggregating by minute."
   ]
  },
  {
   "cell_type": "code",
   "execution_count": 164,
   "metadata": {},
   "outputs": [
    {
     "name": "stdout",
     "output_type": "stream",
     "text": [
      "Downloading USDT_LTC from 2016-07-10 12:54:31.703036 to 2017-06-23 19:20:00.\n",
      "fetched 300000 USDT_LTC trades.\n",
      "Downloading USDT_BTC from 2016-07-10 12:54:31.703036 to 2017-07-03 14:28:00.\n",
      "fetched 300000 USDT_BTC trades.\n",
      "Downloading USDT_ETH from 2016-07-10 12:54:31.703036 to 2017-07-01 01:06:00.\n",
      "fetched 300000 USDT_ETH trades.\n"
     ]
    }
   ],
   "source": [
    "rates = {pair: extend_history(pair, rates[pair]) for pair in rates}"
   ]
  },
  {
   "cell_type": "code",
   "execution_count": 165,
   "metadata": {},
   "outputs": [
    {
     "name": "stdout",
     "output_type": "stream",
     "text": [
      "<class 'pandas.core.frame.DataFrame'>\n",
      "DatetimeIndex: 15651 entries, 2017-07-05 18:48:00 to 2017-07-01 04:05:00\n",
      "Data columns (total 1 columns):\n",
      "USDT_ETH    14751 non-null float64\n",
      "dtypes: float64(1)\n",
      "memory usage: 244.5 KB\n"
     ]
    }
   ],
   "source": [
    "rates['USDT_ETH'].info()"
   ]
  },
  {
   "cell_type": "code",
   "execution_count": 166,
   "metadata": {},
   "outputs": [
    {
     "name": "stdout",
     "output_type": "stream",
     "text": [
      "Index(['USDT_BTC', 'USDT_ETH', 'USDT_LTC'], dtype='object')\n"
     ]
    },
    {
     "data": {
      "image/png": "[encoded data removed]",
      "text/plain": [
       "<matplotlib.figure.Figure at 0x7f52e5806fd0>"
      ]
     },
     "metadata": {},
     "output_type": "display_data"
    }
   ],
   "source": [
    "data = concatenate_series(rates)\n",
    "data.plot(figsize=(10,10), logy=True);"
   ]
  },
  {
   "cell_type": "code",
   "execution_count": 145,
   "metadata": {},
   "outputs": [
    {
     "data": {
      "text/html": [
       "<div>\n",
       "<style>\n",
       "    .dataframe thead tr:only-child th {\n",
       "        text-align: right;\n",
       "    }\n",
       "\n",
       "    .dataframe thead th {\n",
       "        text-align: left;\n",
       "    }\n",
       "\n",
       "    .dataframe tbody tr th {\n",
       "        vertical-align: top;\n",
       "    }\n",
       "</style>\n",
       "<table border=\"1\" class=\"dataframe\">\n",
       "  <thead>\n",
       "    <tr style=\"text-align: right;\">\n",
       "      <th></th>\n",
       "      <th>usdt_btc</th>\n",
       "      <th>usdt_eth</th>\n",
       "      <th>usdt_ltc</th>\n",
       "    </tr>\n",
       "    <tr>\n",
       "      <th>date</th>\n",
       "      <th></th>\n",
       "      <th></th>\n",
       "      <th></th>\n",
       "    </tr>\n",
       "  </thead>\n",
       "  <tbody>\n",
       "    <tr>\n",
       "      <th>2017-07-05 08:32:00</th>\n",
       "      <td>NaN</td>\n",
       "      <td>NaN</td>\n",
       "      <td>51.769999</td>\n",
       "    </tr>\n",
       "    <tr>\n",
       "      <th>2017-07-05 08:33:00</th>\n",
       "      <td>NaN</td>\n",
       "      <td>NaN</td>\n",
       "      <td>51.734193</td>\n",
       "    </tr>\n",
       "    <tr>\n",
       "      <th>2017-07-05 08:34:00</th>\n",
       "      <td>NaN</td>\n",
       "      <td>NaN</td>\n",
       "      <td>51.803571</td>\n",
       "    </tr>\n",
       "    <tr>\n",
       "      <th>2017-07-05 08:35:00</th>\n",
       "      <td>NaN</td>\n",
       "      <td>NaN</td>\n",
       "      <td>51.816261</td>\n",
       "    </tr>\n",
       "    <tr>\n",
       "      <th>2017-07-05 08:36:00</th>\n",
       "      <td>NaN</td>\n",
       "      <td>NaN</td>\n",
       "      <td>51.865071</td>\n",
       "    </tr>\n",
       "  </tbody>\n",
       "</table>\n",
       "</div>"
      ],
      "text/plain": [
       "                     usdt_btc  usdt_eth   usdt_ltc\n",
       "date                                              \n",
       "2017-07-05 08:32:00       NaN       NaN  51.769999\n",
       "2017-07-05 08:33:00       NaN       NaN  51.734193\n",
       "2017-07-05 08:34:00       NaN       NaN  51.803571\n",
       "2017-07-05 08:35:00       NaN       NaN  51.816261\n",
       "2017-07-05 08:36:00       NaN       NaN  51.865071"
      ]
     },
     "execution_count": 145,
     "metadata": {},
     "output_type": "execute_result"
    }
   ],
   "source": [
    "data.head()"
   ]
  },
  {
   "cell_type": "code",
   "execution_count": 50,
   "metadata": {},
   "outputs": [],
   "source": [
    "# create the strategy\n",
    "s = bt.Strategy('s1', [bt.algos.RunWeekly(),\n",
    "                       bt.algos.SelectAll(),\n",
    "                       bt.algos.WeighEqually(),\n",
    "                       bt.algos.Rebalance()])\n"
   ]
  },
  {
   "cell_type": "code",
   "execution_count": 52,
   "metadata": {},
   "outputs": [
    {
     "name": "stdout",
     "output_type": "stream",
     "text": [
      "s1\n",
      "0% [##############################] 100% | ETA: 00:00:00"
     ]
    },
    {
     "name": "stderr",
     "output_type": "stream",
     "text": [
      "/usr/local/lib/python3.5/dist-packages/ffn/core.py:1183: RuntimeWarning: invalid value encountered in double_scalars\n",
      "  res = er.mean() / er.std()\n",
      "/usr/local/lib/python3.5/dist-packages/ffn/core.py:209: RuntimeWarning: invalid value encountered in double_scalars\n",
      "  self.calmar = self.cagr / abs(self.max_drawdown)\n"
     ]
    }
   ],
   "source": [
    "# create a backtest and run it\n",
    "test = bt.Backtest(s, data)\n",
    "res = bt.run(test)\n"
   ]
  },
  {
   "cell_type": "code",
   "execution_count": 53,
   "metadata": {},
   "outputs": [
    {
     "data": {
      "image/png": "[encoded data removed]",
      "text/plain": [
       "<matplotlib.figure.Figure at 0x7f52e928f390>"
      ]
     },
     "metadata": {},
     "output_type": "display_data"
    }
   ],
   "source": [
    "res.plot()\n"
   ]
  },
  {
   "cell_type": "code",
   "execution_count": 54,
   "metadata": {},
   "outputs": [
    {
     "name": "stdout",
     "output_type": "stream",
     "text": [
      "Stat                 s1\n",
      "-------------------  ----------\n",
      "Start                2017-07-07\n",
      "End                  2017-07-07\n",
      "Risk-free rate       0.00%\n",
      "\n",
      "Total Return         0.00%\n",
      "Daily Sharpe         -\n",
      "Daily Sortino        -\n",
      "CAGR                 0.00%\n",
      "Max Drawdown         0.00%\n",
      "Calmar Ratio         -\n",
      "\n",
      "MTD                  -\n",
      "3m                   -\n",
      "6m                   -\n",
      "YTD                  0.00%\n",
      "1Y                   -\n",
      "3Y (ann.)            -\n",
      "5Y (ann.)            -\n",
      "10Y (ann.)           -\n",
      "Since Incep. (ann.)  0.00%\n",
      "\n",
      "Daily Sharpe         -\n",
      "Daily Sortino        -\n",
      "Daily Mean (ann.)    0.00%\n",
      "Daily Vol (ann.)     0.00%\n",
      "Daily Skew           0.00\n",
      "Daily Kurt           -\n",
      "Best Day             0.00%\n",
      "Worst Day            0.00%\n",
      "\n",
      "Monthly Sharpe       -\n",
      "Monthly Sortino      -\n",
      "Monthly Mean (ann.)  -\n",
      "Monthly Vol (ann.)   -\n",
      "Monthly Skew         -\n",
      "Monthly Kurt         -\n",
      "Best Month           -\n",
      "Worst Month          -\n",
      "\n",
      "Yearly Sharpe        -\n",
      "Yearly Sortino       -\n",
      "Yearly Mean          -\n",
      "Yearly Vol           -\n",
      "Yearly Skew          -\n",
      "Yearly Kurt          -\n",
      "Best Year            -\n",
      "Worst Year           -\n",
      "\n",
      "Avg. Drawdown        -\n",
      "Avg. Drawdown Days   -\n",
      "Avg. Up Month        -\n",
      "Avg. Down Month      -\n",
      "Win Year %           -\n",
      "Win 12m %            -\n"
     ]
    }
   ],
   "source": [
    "res.display()"
   ]
  },
  {
   "cell_type": "code",
   "execution_count": null,
   "metadata": {
    "collapsed": true
   },
   "outputs": [],
   "source": []
  }
 ],
 "metadata": {
  "kernelspec": {
   "display_name": "Python 3",
   "language": "python",
   "name": "python3"
  },
  "language_info": {
   "codemirror_mode": {
    "name": "ipython",
    "version": 3
   },
   "file_extension": ".py",
   "mimetype": "text/x-python",
   "name": "python",
   "nbconvert_exporter": "python",
   "pygments_lexer": "ipython3",
   "version": "3.5.3"
  }
 },
 "nbformat": 4,
 "nbformat_minor": 2
}
