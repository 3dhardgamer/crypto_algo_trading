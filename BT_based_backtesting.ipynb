{
 "cells": [
  {
   "cell_type": "code",
   "execution_count": 8,
   "metadata": {
    "collapsed": true
   },
   "outputs": [],
   "source": [
    "import bt\n",
    "import pandas as pd\n",
    "import seaborn as sns\n",
    "import datetime"
   ]
  },
  {
   "cell_type": "code",
   "execution_count": 9,
   "metadata": {},
   "outputs": [
    {
     "name": "stdout",
     "output_type": "stream",
     "text": [
      "Populating the interactive namespace from numpy and matplotlib\n"
     ]
    }
   ],
   "source": [
    "%pylab inline"
   ]
  },
  {
   "cell_type": "markdown",
   "metadata": {},
   "source": [
    "## Downloading Historical data\n",
    "First let's download some historical data from Poloniex. With this API you can only fetch one year at a time."
   ]
  },
  {
   "cell_type": "code",
   "execution_count": 77,
   "metadata": {},
   "outputs": [
    {
     "name": "stdout",
     "output_type": "stream",
     "text": [
      "Downloading data from 2016-07-09 18:48:39.850286 to 2017-07-08 18:48:39.850286\n"
     ]
    }
   ],
   "source": [
    "end = datetime.datetime.now()\n",
    "start = end - datetime.timedelta(days=364)\n",
    "print('Downloading data from {} to {}'.format(start,end))\n",
    "pairs = ['USDT_BTC','USDT_ETH', 'USDT_LTC']\n",
    "rates = []\n",
    "for pair in pairs: \n",
    "    df = pd.read_json('https://poloniex.com/public?command=returnTradeHistory&currencyPair={}&start={}&end={}'.format(pair, int(start.timestamp()), int(end.timestamp())))\n",
    "    df.set_index(['date'], inplace=True)\n",
    "    df = df.resample('1T').mean() #resample in windows of 3 minutes\n",
    "    df[pair] = df.rate\n",
    "    del df['rate']\n",
    "    rates.append(df)\n",
    "    \n",
    "data = pd.concat(rates, axis=1)\n",
    "data = data[pairs]"
   ]
  },
  {
   "cell_type": "code",
   "execution_count": 78,
   "metadata": {},
   "outputs": [
    {
     "name": "stdout",
     "output_type": "stream",
     "text": [
      "<class 'pandas.core.frame.DataFrame'>\n",
      "DatetimeIndex: 5728 entries, 2017-07-04 22:21:00 to 2017-07-08 21:48:00\n",
      "Freq: T\n",
      "Data columns (total 3 columns):\n",
      "USDT_BTC    2736 non-null float64\n",
      "USDT_ETH    4490 non-null float64\n",
      "USDT_LTC    5121 non-null float64\n",
      "dtypes: float64(3)\n",
      "memory usage: 179.0 KB\n"
     ]
    }
   ],
   "source": [
    "data.info()"
   ]
  },
  {
   "cell_type": "code",
   "execution_count": 79,
   "metadata": {},
   "outputs": [
    {
     "data": {
      "text/html": [
       "<div>\n",
       "<style>\n",
       "    .dataframe thead tr:only-child th {\n",
       "        text-align: right;\n",
       "    }\n",
       "\n",
       "    .dataframe thead th {\n",
       "        text-align: left;\n",
       "    }\n",
       "\n",
       "    .dataframe tbody tr th {\n",
       "        vertical-align: top;\n",
       "    }\n",
       "</style>\n",
       "<table border=\"1\" class=\"dataframe\">\n",
       "  <thead>\n",
       "    <tr style=\"text-align: right;\">\n",
       "      <th></th>\n",
       "      <th>USDT_BTC</th>\n",
       "      <th>USDT_ETH</th>\n",
       "      <th>USDT_LTC</th>\n",
       "    </tr>\n",
       "    <tr>\n",
       "      <th>date</th>\n",
       "      <th></th>\n",
       "      <th></th>\n",
       "      <th></th>\n",
       "    </tr>\n",
       "  </thead>\n",
       "  <tbody>\n",
       "    <tr>\n",
       "      <th>2017-07-08 21:44:00</th>\n",
       "      <td>2529.526329</td>\n",
       "      <td>242.350000</td>\n",
       "      <td>49.864552</td>\n",
       "    </tr>\n",
       "    <tr>\n",
       "      <th>2017-07-08 21:45:00</th>\n",
       "      <td>2529.957148</td>\n",
       "      <td>242.335756</td>\n",
       "      <td>NaN</td>\n",
       "    </tr>\n",
       "    <tr>\n",
       "      <th>2017-07-08 21:46:00</th>\n",
       "      <td>2531.181622</td>\n",
       "      <td>242.357268</td>\n",
       "      <td>49.807733</td>\n",
       "    </tr>\n",
       "    <tr>\n",
       "      <th>2017-07-08 21:47:00</th>\n",
       "      <td>2531.080616</td>\n",
       "      <td>242.560561</td>\n",
       "      <td>49.852139</td>\n",
       "    </tr>\n",
       "    <tr>\n",
       "      <th>2017-07-08 21:48:00</th>\n",
       "      <td>2531.080616</td>\n",
       "      <td>242.838652</td>\n",
       "      <td>NaN</td>\n",
       "    </tr>\n",
       "  </tbody>\n",
       "</table>\n",
       "</div>"
      ],
      "text/plain": [
       "                        USDT_BTC    USDT_ETH   USDT_LTC\n",
       "date                                                   \n",
       "2017-07-08 21:44:00  2529.526329  242.350000  49.864552\n",
       "2017-07-08 21:45:00  2529.957148  242.335756        NaN\n",
       "2017-07-08 21:46:00  2531.181622  242.357268  49.807733\n",
       "2017-07-08 21:47:00  2531.080616  242.560561  49.852139\n",
       "2017-07-08 21:48:00  2531.080616  242.838652        NaN"
      ]
     },
     "execution_count": 79,
     "metadata": {},
     "output_type": "execute_result"
    }
   ],
   "source": [
    "#data.set_index(['date'], inplace=True)\n",
    "data.tail()"
   ]
  },
  {
   "cell_type": "code",
   "execution_count": 80,
   "metadata": {},
   "outputs": [
    {
     "data": {
      "image/png": "[encoded data removed]",
      "text/plain": [
       "<matplotlib.figure.Figure at 0x7f52e66e7a20>"
      ]
     },
     "metadata": {},
     "output_type": "display_data"
    }
   ],
   "source": [
    "data.plot(figsize=(10,10), logy=True);"
   ]
  },
  {
   "cell_type": "code",
   "execution_count": 50,
   "metadata": {},
   "outputs": [],
   "source": [
    "# create the strategy\n",
    "s = bt.Strategy('s1', [bt.algos.RunWeekly(),\n",
    "                       bt.algos.SelectAll(),\n",
    "                       bt.algos.WeighEqually(),\n",
    "                       bt.algos.Rebalance()])\n"
   ]
  },
  {
   "cell_type": "code",
   "execution_count": 52,
   "metadata": {},
   "outputs": [
    {
     "name": "stdout",
     "output_type": "stream",
     "text": [
      "s1\n",
      "0% [##############################] 100% | ETA: 00:00:00"
     ]
    },
    {
     "name": "stderr",
     "output_type": "stream",
     "text": [
      "/usr/local/lib/python3.5/dist-packages/ffn/core.py:1183: RuntimeWarning: invalid value encountered in double_scalars\n",
      "  res = er.mean() / er.std()\n",
      "/usr/local/lib/python3.5/dist-packages/ffn/core.py:209: RuntimeWarning: invalid value encountered in double_scalars\n",
      "  self.calmar = self.cagr / abs(self.max_drawdown)\n"
     ]
    }
   ],
   "source": [
    "# create a backtest and run it\n",
    "test = bt.Backtest(s, data)\n",
    "res = bt.run(test)\n"
   ]
  },
  {
   "cell_type": "code",
   "execution_count": 53,
   "metadata": {},
   "outputs": [
    {
     "data": {
      "image/png": "[encoded data removed]",
      "text/plain": [
       "<matplotlib.figure.Figure at 0x7f52e928f390>"
      ]
     },
     "metadata": {},
     "output_type": "display_data"
    }
   ],
   "source": [
    "res.plot()\n"
   ]
  },
  {
   "cell_type": "code",
   "execution_count": 54,
   "metadata": {},
   "outputs": [
    {
     "name": "stdout",
     "output_type": "stream",
     "text": [
      "Stat                 s1\n",
      "-------------------  ----------\n",
      "Start                2017-07-07\n",
      "End                  2017-07-07\n",
      "Risk-free rate       0.00%\n",
      "\n",
      "Total Return         0.00%\n",
      "Daily Sharpe         -\n",
      "Daily Sortino        -\n",
      "CAGR                 0.00%\n",
      "Max Drawdown         0.00%\n",
      "Calmar Ratio         -\n",
      "\n",
      "MTD                  -\n",
      "3m                   -\n",
      "6m                   -\n",
      "YTD                  0.00%\n",
      "1Y                   -\n",
      "3Y (ann.)            -\n",
      "5Y (ann.)            -\n",
      "10Y (ann.)           -\n",
      "Since Incep. (ann.)  0.00%\n",
      "\n",
      "Daily Sharpe         -\n",
      "Daily Sortino        -\n",
      "Daily Mean (ann.)    0.00%\n",
      "Daily Vol (ann.)     0.00%\n",
      "Daily Skew           0.00\n",
      "Daily Kurt           -\n",
      "Best Day             0.00%\n",
      "Worst Day            0.00%\n",
      "\n",
      "Monthly Sharpe       -\n",
      "Monthly Sortino      -\n",
      "Monthly Mean (ann.)  -\n",
      "Monthly Vol (ann.)   -\n",
      "Monthly Skew         -\n",
      "Monthly Kurt         -\n",
      "Best Month           -\n",
      "Worst Month          -\n",
      "\n",
      "Yearly Sharpe        -\n",
      "Yearly Sortino       -\n",
      "Yearly Mean          -\n",
      "Yearly Vol           -\n",
      "Yearly Skew          -\n",
      "Yearly Kurt          -\n",
      "Best Year            -\n",
      "Worst Year           -\n",
      "\n",
      "Avg. Drawdown        -\n",
      "Avg. Drawdown Days   -\n",
      "Avg. Up Month        -\n",
      "Avg. Down Month      -\n",
      "Win Year %           -\n",
      "Win 12m %            -\n"
     ]
    }
   ],
   "source": [
    "res.display()"
   ]
  },
  {
   "cell_type": "code",
   "execution_count": null,
   "metadata": {
    "collapsed": true
   },
   "outputs": [],
   "source": []
  }
 ],
 "metadata": {
  "kernelspec": {
   "display_name": "Python 3",
   "language": "python",
   "name": "python3"
  },
  "language_info": {
   "codemirror_mode": {
    "name": "ipython",
    "version": 3
   },
   "file_extension": ".py",
   "mimetype": "text/x-python",
   "name": "python",
   "nbconvert_exporter": "python",
   "pygments_lexer": "ipython3",
   "version": "3.5.3"
  }
 },
 "nbformat": 4,
 "nbformat_minor": 2
}
