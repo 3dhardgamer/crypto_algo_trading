{
 "cells": [
  {
   "cell_type": "code",
   "execution_count": 23,
   "metadata": {
    "collapsed": true,
    "urth": {
     "dashboard": {
      "hidden": true,
      "layout": {}
     }
    }
   },
   "outputs": [],
   "source": [
    "from bitfinex.client import Client\n",
    "import pandas as pd\n",
    "from ipywidgets import interact, interactive, fixed\n",
    "from ipywidgets import widgets\n",
    "from IPython.display import display"
   ]
  },
  {
   "cell_type": "code",
   "execution_count": 46,
   "metadata": {
    "collapsed": false
   },
   "outputs": [
    {
     "name": "stdout",
     "output_type": "stream",
     "text": [
      "Populating the interactive namespace from numpy and matplotlib\n"
     ]
    },
    {
     "name": "stderr",
     "output_type": "stream",
     "text": [
      "WARNING: pylab import has clobbered these variables: ['interactive']\n",
      "`%matplotlib` prevents importing * from pylab and numpy\n"
     ]
    }
   ],
   "source": [
    "%pylab inline"
   ]
  },
  {
   "cell_type": "code",
   "execution_count": 24,
   "metadata": {
    "collapsed": true,
    "urth": {
     "dashboard": {
      "hidden": true,
      "layout": {}
     }
    }
   },
   "outputs": [],
   "source": [
    "client = Client()"
   ]
  },
  {
   "cell_type": "code",
   "execution_count": 25,
   "metadata": {
    "collapsed": false,
    "urth": {
     "dashboard": {
      "layout": {
       "col": 0,
       "height": 4,
       "row": 6,
       "width": 4
      }
     }
    }
   },
   "outputs": [],
   "source": [
    "symbols = client.symbols()"
   ]
  },
  {
   "cell_type": "code",
   "execution_count": 26,
   "metadata": {
    "collapsed": false,
    "urth": {
     "dashboard": {
      "layout": {
       "col": 0,
       "height": 6,
       "row": 0,
       "width": 4
      }
     }
    }
   },
   "outputs": [
    {
     "data": {
      "text/html": [
       "<div>\n",
       "<table border=\"1\" class=\"dataframe\">\n",
       "  <thead>\n",
       "    <tr style=\"text-align: right;\">\n",
       "      <th></th>\n",
       "      <th>ask</th>\n",
       "      <th>bid</th>\n",
       "      <th>last_price</th>\n",
       "      <th>mid</th>\n",
       "      <th>timestamp</th>\n",
       "    </tr>\n",
       "  </thead>\n",
       "  <tbody>\n",
       "    <tr>\n",
       "      <th>btcusd</th>\n",
       "      <td>678.05</td>\n",
       "      <td>678.02</td>\n",
       "      <td>678.05</td>\n",
       "      <td>678.035</td>\n",
       "      <td>2016-07-01 12:36:54</td>\n",
       "    </tr>\n",
       "  </tbody>\n",
       "</table>\n",
       "</div>"
      ],
      "text/plain": [
       "           ask     bid  last_price      mid           timestamp\n",
       "btcusd  678.05  678.02      678.05  678.035 2016-07-01 12:36:54"
      ]
     },
     "metadata": {},
     "output_type": "display_data"
    }
   ],
   "source": [
    "@interact(symbol=widgets.Dropdown(options=symbols,description=\"Select a ticker\"))\n",
    "def ticker(symbol):\n",
    "    tick = client.ticker(symbol)\n",
    "    df = pd.DataFrame(tick,index=[symbol])\n",
    "    df.timestamp = pd.to_datetime(df.timestamp, unit='s')\n",
    "    return df"
   ]
  },
  {
   "cell_type": "code",
   "execution_count": null,
   "metadata": {
    "collapsed": true
   },
   "outputs": [],
   "source": []
  },
  {
   "cell_type": "code",
   "execution_count": 96,
   "metadata": {
    "collapsed": false,
    "urth": {
     "dashboard": {
      "hidden": true,
      "layout": {}
     }
    }
   },
   "outputs": [
    {
     "data": {
      "image/png": "[encoded data removed]",
      "text/plain": [
       "<matplotlib.figure.Figure at 0x7f165f3322e8>"
      ]
     },
     "metadata": {},
     "output_type": "display_data"
    }
   ],
   "source": [
    "def calc_OB_curves(asks,bids, bins):\n",
    "    ca = []\n",
    "    cb = []\n",
    "    for c in bins:\n",
    "        ca.append(asks[asks.price<=c].amount.sum())\n",
    "        cb.append(bids[bids.price<=c].amount.sum())\n",
    "    return ca,cb\n",
    "\n",
    "@interact(symbol=widgets.Dropdown(options=symbols,description=\"Select a ticker\"), \n",
    "          n=widgets.BoundedIntText(min=1,max=10000,value=100, description='samples'),\n",
    "          res=widgets.Dropdown(options={'0.1':0.1, '1':1,'10':10},description='Agregation level'))\n",
    "def order_book(symbol, n, res):\n",
    "    parameters = {'limit_asks': n, 'limit_bids': n}\n",
    "    book = client.order_book(symbol, parameters)\n",
    "    \n",
    "    bids = pd.DataFrame(book['bids'])\n",
    "    bids.timestamp = pd.to_datetime(bids.timestamp, unit='s')\n",
    "    bids.set_index('timestamp', inplace=True)\n",
    "    asks = pd.DataFrame(book['asks'])\n",
    "    asks.timestamp = pd.to_datetime(asks.timestamp, unit='s')\n",
    "    asks.set_index('timestamp', inplace=True)\n",
    "    bins = np.arange(min(min(asks.price),bids.price.min()),max(asks.price.max(),bids.price.max()),res)\n",
    "#     plt.hist([asks.price, bids.price], color=['red', 'green'], bins=bins, cumulative=True, label=['asks','bids'])\n",
    "    ca,cb = calc_OB_curves(asks,bids,bins)\n",
    "    plt.plot(bins, ca, 'r', label='asks', drawstyle='steps', fillstyle='full', alpha=0.5)\n",
    "    plt.plot(bins, cb, 'g', label='bids', drawstyle='steps')\n",
    "    \n",
    "    plt.ylabel('amount(coins)')\n",
    "    plt.grid()\n",
    "    plt.xlabel('price')\n",
    "    plt.legend(loc=0)\n",
    "\n",
    "    return #asks,bids\n",
    "    "
   ]
  },
  {
   "cell_type": "code",
   "execution_count": 79,
   "metadata": {
    "collapsed": false,
    "urth": {
     "dashboard": {
      "layout": {
       "col": 8,
       "height": 12,
       "row": 0,
       "width": 4
      }
     }
    }
   },
   "outputs": [
    {
     "name": "stdout",
     "output_type": "stream",
     "text": [
      "{'bids': [{'timestamp': 1467396317.0, 'amount': 1.558985, 'price': 678.17}, {'timestamp': 1467395844.0, 'amount': 0.04, 'price': 678.11}, {'timestamp': 1467396293.0, 'amount': 0.2, 'price': 678.1}, {'timestamp': 1467396183.0, 'amount': 0.1, 'price': 678.0}, {'timestamp': 1467396316.0, 'amount': 7.3632, 'price': 677.99}, {'timestamp': 1467395669.0, 'amount': 4.86, 'price': 677.97}, {'timestamp': 1467396033.0, 'amount': 0.2, 'price': 677.5}, {'timestamp': 1467396336.0, 'amount': 20.717, 'price': 677.44}, {'timestamp': 1467396332.0, 'amount': 24.4319, 'price': 677.37}, {'timestamp': 1467393945.0, 'amount': 0.1, 'price': 677.18}, {'timestamp': 1467392921.0, 'amount': 3.0, 'price': 677.15}, {'timestamp': 1467395887.0, 'amount': 0.05, 'price': 677.11}, {'timestamp': 1467396327.0, 'amount': 8.79, 'price': 677.09}, {'timestamp': 1467396255.0, 'amount': 19.5204, 'price': 677.08}, {'timestamp': 1467396331.0, 'amount': 5.0961906, 'price': 677.03}, {'timestamp': 1467395674.0, 'amount': 4.86, 'price': 676.97}, {'timestamp': 1467396329.0, 'amount': 10.2705, 'price': 676.94}, {'timestamp': 1467396332.0, 'amount': 5.0961906, 'price': 676.88}, {'timestamp': 1467392921.0, 'amount': 6.0, 'price': 676.76}, {'timestamp': 1467396327.0, 'amount': 16.62, 'price': 676.68}], 'asks': [{'timestamp': 1467396226.0, 'amount': 27.13859126, 'price': 678.18}, {'timestamp': 1467396267.0, 'amount': 0.02, 'price': 678.19}, {'timestamp': 1467396271.0, 'amount': 0.1, 'price': 678.24}, {'timestamp': 1467396339.0, 'amount': 7.3527, 'price': 678.49}, {'timestamp': 1467396336.0, 'amount': 1.654038, 'price': 678.5}, {'timestamp': 1467396174.0, 'amount': 2.13, 'price': 678.52}, {'timestamp': 1467396327.0, 'amount': 2.23, 'price': 678.61}, {'timestamp': 1467396136.0, 'amount': 19.95, 'price': 678.62}, {'timestamp': 1467396233.0, 'amount': 0.01, 'price': 678.67}, {'timestamp': 1467396328.0, 'amount': 4.57, 'price': 678.98}, {'timestamp': 1467396335.0, 'amount': 18.1705, 'price': 679.45}, {'timestamp': 1467396334.0, 'amount': 11.87, 'price': 679.46}, {'timestamp': 1467396327.0, 'amount': 8.73, 'price': 679.47}, {'timestamp': 1467396327.0, 'amount': 16.72, 'price': 679.49}, {'timestamp': 1467396327.0, 'amount': 10.2942, 'price': 679.52}, {'timestamp': 1467396308.0, 'amount': 18.2662, 'price': 679.53}, {'timestamp': 1467396108.0, 'amount': 0.1008, 'price': 679.57}, {'timestamp': 1467396294.0, 'amount': 6.12, 'price': 679.58}, {'timestamp': 1467396075.0, 'amount': 19.8111, 'price': 679.62}, {'timestamp': 1467396077.0, 'amount': 0.5, 'price': 679.66}]}\n"
     ]
    }
   ],
   "source": [
    "parameters = {'limit_asks': 20, 'limit_bids': 20}\n",
    "\n",
    "#print(client.lendbook('btc', parameters))\n",
    "print(client.order_book('btcusd', parameters))"
   ]
  },
  {
   "cell_type": "code",
   "execution_count": 71,
   "metadata": {
    "collapsed": false,
    "urth": {
     "dashboard": {
      "hidden": true,
      "layout": {}
     }
    }
   },
   "outputs": [],
   "source": [
    "bar?"
   ]
  },
  {
   "cell_type": "code",
   "execution_count": null,
   "metadata": {
    "collapsed": true,
    "urth": {
     "dashboard": {
      "hidden": true,
      "layout": {}
     }
    }
   },
   "outputs": [],
   "source": []
  }
 ],
 "metadata": {
  "kernelspec": {
   "display_name": "Python 3",
   "language": "python",
   "name": "python3"
  },
  "language_info": {
   "codemirror_mode": {
    "name": "ipython",
    "version": 3
   },
   "file_extension": ".py",
   "mimetype": "text/x-python",
   "name": "python",
   "nbconvert_exporter": "python",
   "pygments_lexer": "ipython3",
   "version": "3.5.1+"
  },
  "urth": {
   "dashboard": {
    "cellMargin": 10,
    "defaultCellHeight": 20,
    "layout": "grid",
    "maxColumns": 12
   }
  },
  "widgets": {
   "state": {
    "00f4781c53a24993a46c715a25e2e956": {
     "views": []
    },
    "01c3a484c95f447a80cbb5aa871b9661": {
     "views": []
    },
    "01fb5ebd56fc44ca9137741154c14041": {
     "views": []
    },
    "0272442da20e41ef991a0e6100e392d5": {
     "views": []
    },
    "02cf00467217404381189c212138b038": {
     "views": []
    },
    "02cff163b2fa41bbb2868c4cf9f361df": {
     "views": []
    },
    "03d63ff739544e4f8bff589c11a23dda": {
     "views": []
    },
    "03e918c25a774e46a70c3a820a8ab3d2": {
     "views": []
    },
    "04d65be2be4a47a48e2198fb9c99e23b": {
     "views": []
    },
    "053d9e9bf84143b899b10870d72db455": {
     "views": []
    },
    "056aca1999be4d59a598153d83ea3105": {
     "views": []
    },
    "0630741a10434236b371b236f850678d": {
     "views": []
    },
    "064aa031445d473499177cd8c58d1926": {
     "views": []
    },
    "06918a297af44c07a5541555a5e99ffe": {
     "views": []
    },
    "07aab39757ac4eb1a73b1f12ee0fcc96": {
     "views": []
    },
    "084315b345b64b6ca39fba799658478d": {
     "views": []
    },
    "08f07beb73584cc5b7d353f0e0c6a914": {
     "views": []
    },
    "08f76637709340048f49ab69aa7d768d": {
     "views": []
    },
    "09c6430d377d471ab6a98b4439954bca": {
     "views": []
    },
    "0a47f25882a94e9c80c02d3d8b7805d3": {
     "views": []
    },
    "0b4867561ce74aed858dae74f85d73ae": {
     "views": []
    },
    "0b7ba2134dd1485bb1d16a98ddb55343": {
     "views": []
    },
    "0d92b0f6519a472a8ea5e5a7fb13dead": {
     "views": []
    },
    "0e5e3140a721477890bb128dc30b46df": {
     "views": []
    },
    "0e82fc3864c2420d95640dd3080f4fb4": {
     "views": []
    },
    "0eb6b65d287f4c2e8f476b85faf64140": {
     "views": []
    },
    "0f4d46bb5bfc4cd8aee91561337bfd95": {
     "views": []
    },
    "10542f51daf046c9a9bb48cae569d995": {
     "views": []
    },
    "11923ba4a70649c8a0612d04c7a3b45d": {
     "views": []
    },
    "1195a44e0ff748f395a41c38cae1cc08": {
     "views": []
    },
    "1410bb084a3449dca84de771606b9ee9": {
     "views": []
    },
    "14531e1d675040f3bf497b2c3bea8aba": {
     "views": []
    },
    "14954f919dac4629a8ac0fe437f71668": {
     "views": []
    },
    "15845e7222094a099a6cac364fd6df99": {
     "views": []
    },
    "15d5eaea0a8b48a6a90c4553b61c4c68": {
     "views": []
    },
    "162634a3519645279c2f30b2348db058": {
     "views": []
    },
    "1854c421a3304a1bafb04876964fa125": {
     "views": []
    },
    "18c55a4ee91b414281e57acba21ea2f6": {
     "views": []
    },
    "1a3aee6299e54cff94e92a1e777f4451": {
     "views": []
    },
    "1ae2216bd1774550a3cdb4ed448cb29f": {
     "views": []
    },
    "1af619d93a7c416bb2ea3cc5d7102389": {
     "views": []
    },
    "1caf2b38d17f44ce8354a44c68187a61": {
     "views": []
    },
    "1cea1444dfc24dfdafa344c96e345b2c": {
     "views": []
    },
    "1cf6f0bbe5834135898be0a525f06327": {
     "views": []
    },
    "1d17065c54cc4cfd971d234396e77d17": {
     "views": []
    },
    "1d4b111c0b854236bb4a5e13d6813ad9": {
     "views": []
    },
    "1d6de928b92e478ab67a7852346764d7": {
     "views": []
    },
    "1dad9dd86346407cbc38957c1c14fba7": {
     "views": []
    },
    "1db4032a87b24336b9bff69a2ee397ed": {
     "views": []
    },
    "1dff17601e404bfe9cdee661de91922c": {
     "views": []
    },
    "1e78eb2966694d55924f0e5b298708b7": {
     "views": []
    },
    "20deb141501542d580afe009f6f5f189": {
     "views": []
    },
    "21a7af31417140609442561f8f1026ee": {
     "views": []
    },
    "231df20ef8674cb7a1d9f1562c17b9c6": {
     "views": []
    },
    "241de20fc22f4047949ed732da5035bb": {
     "views": []
    },
    "249abcfd73924e248befcdf648bbae4a": {
     "views": []
    },
    "259ade59d3204368abb43a4d683e6ed0": {
     "views": []
    },
    "2621f84db0e84f9197c24443a8ad1975": {
     "views": []
    },
    "2642f174c11447b2b8c8069f3816a96c": {
     "views": []
    },
    "26ee840552b44bcea33a47ee6c73af45": {
     "views": []
    },
    "26f4dbc976f84811947feec66d5a83c6": {
     "views": []
    },
    "277e8fcc53ec4e4b8e59266c762d8733": {
     "views": []
    },
    "27ec05b0ac3a4b259acbdff63920226d": {
     "views": []
    },
    "282d522ea90442ec9068c1a0ab806459": {
     "views": []
    },
    "2a3ffcdccce74bfc8a49d98d42ea0ae4": {
     "views": []
    },
    "2a8a3d6fde9140f6bc3be10ded537381": {
     "views": []
    },
    "2a8eff60e5784fd1aa9aae0d662f5a73": {
     "views": []
    },
    "2c1ef127aee44f79b14613b1df8b37b7": {
     "views": []
    },
    "2c81db635f4e4674928fe42e66d9916f": {
     "views": []
    },
    "2ce0edbe4f22440993ac8e069b6ad273": {
     "views": []
    },
    "2ce83c96359146c99d170ab9ac80a703": {
     "views": []
    },
    "2d93638b0fc647668d31e618c68de6fa": {
     "views": []
    },
    "2e23de9b0bf34a04bb3f826a6c9325eb": {
     "views": []
    },
    "2e725e9f40ab4cc48b8893ec5f6e0ea9": {
     "views": []
    },
    "2e7d347dd4c84e07a433d612709a196f": {
     "views": []
    },
    "2f0890a1e6784dfc86662270d027f854": {
     "views": []
    },
    "2f32eafd251549e69bfeb192df30536f": {
     "views": []
    },
    "2f94be52f8de4ca6baa0c835b6e38584": {
     "views": []
    },
    "3048ef3018734ffab870869fcdf8948f": {
     "views": []
    },
    "305a7a956b754dd29e779c5d13949206": {
     "views": []
    },
    "31525b9feb544f409d1ca3172fcd7350": {
     "views": []
    },
    "316059dfb2cc4bedbf02a363b06c2925": {
     "views": []
    },
    "3168d9454e694423a85ee1251fa5d1ca": {
     "views": []
    },
    "338377b13b77477a92a3eea927fe574d": {
     "views": []
    },
    "349dcb1b310d497a87fa30638c77e4ca": {
     "views": []
    },
    "34e664251ccb4e68a277f3d57b49ff7b": {
     "views": []
    },
    "361100f7a55d4efdb66349a88f267245": {
     "views": []
    },
    "367fcab768f048a1a73be97efe48a6ef": {
     "views": []
    },
    "36d56a839dd941b78114b7c30c1f7968": {
     "views": []
    },
    "375a28750554433297012ceb5c21fd6d": {
     "views": []
    },
    "38e0a385d7134b28abc4602848bebbcc": {
     "views": []
    },
    "38e614fed3b74ce29555d67dc6641e8c": {
     "views": []
    },
    "3a725167694f4f91baf6597db3374736": {
     "views": []
    },
    "3a7ce95b74ba45f7a276488c613b8f45": {
     "views": []
    },
    "3a8f70cd2eea47f6a2061b79139980de": {
     "views": []
    },
    "3a9a6fa413dd4771bbd9d7ed05513bc1": {
     "views": []
    },
    "3ab8fc5500fe4bd5ad89c46675fe291c": {
     "views": []
    },
    "3abca1fcc52b49e193b4fa349b773378": {
     "views": []
    },
    "3b77d185a43042d18553110afea4787a": {
     "views": []
    },
    "3c67295083c8423d8fe4a88ec5aa42c3": {
     "views": []
    },
    "3ca062620e1b4dacb8002ae9d0d672aa": {
     "views": []
    },
    "3cc0529cb9934308a085e8228b8919bc": {
     "views": []
    },
    "3ce28388afae42258b76cb9d6deaa991": {
     "views": []
    },
    "3e92f85f4ce642b0a2021b17cd1b5439": {
     "views": []
    },
    "3eea7b02268541438818c52a41bb4463": {
     "views": []
    },
    "3f3e44d453704536adc0f50235231040": {
     "views": []
    },
    "3ff4691b44ed4ad7aa101f894312641d": {
     "views": []
    },
    "4022d5b73c1843ccb3f0084d30b2fccb": {
     "views": []
    },
    "4113f7cfb3ac4fee97e0616e034ba25a": {
     "views": []
    },
    "41c6814a1c4d46178f705149c75c46fc": {
     "views": []
    },
    "42104cee7d4442b18a0207818cd4edf7": {
     "views": []
    },
    "4338c3a42b614412aeb91313517198ba": {
     "views": []
    },
    "433bf81e77454bfd94adfe04c812c87a": {
     "views": []
    },
    "440ba52911014ebc9c9dca1f8049c854": {
     "views": []
    },
    "448e090bd09e44ffb97aa7b539cdbef4": {
     "views": []
    },
    "44b2b76ce04d4ea49f91711ede4f69ab": {
     "views": []
    },
    "45153dc4f8c34ea8bb717943f570058c": {
     "views": []
    },
    "46852fa33bb842bba5690d0b95f8d4e5": {
     "views": []
    },
    "46ed849a0c8b465487b8975b8d477f0d": {
     "views": []
    },
    "473c8720653b4b3d8840e30d67843c18": {
     "views": []
    },
    "4750d00374e94481baadd81ac7b3bac1": {
     "views": []
    },
    "47d9a68b589f4ac59b95dea7a2dade3d": {
     "views": []
    },
    "47e5b68e82184e9ab7e3e1b16b85026e": {
     "views": []
    },
    "4844f75573ef43f4a6b7490ca1792749": {
     "views": []
    },
    "486b995e6f384a47a177855c2e82cb79": {
     "views": []
    },
    "4879e312d2894fbc84a6a56fd816e8df": {
     "views": []
    },
    "48c470c5ba0e4724a7be3fbe89efd6fe": {
     "views": []
    },
    "492c5b6d84904019a1625adb3bd766de": {
     "views": []
    },
    "49db37ef4e364f3d94c6990a1f995985": {
     "views": []
    },
    "49dc33e3debc4a388266c9f8f437006d": {
     "views": []
    },
    "4cd92a5137f740c4830e86d9885d4206": {
     "views": []
    },
    "4dbce62030ce49b48dda63d8ccd4ff4a": {
     "views": []
    },
    "4f48e80a568342c58121e8130f112cf9": {
     "views": []
    },
    "503c84967e0441298255f9597d6c15d8": {
     "views": []
    },
    "513ddb269c7740ae9ff6314d4c61778e": {
     "views": []
    },
    "51e82af0851f4a06bb186a77ba9d7497": {
     "views": []
    },
    "51f9eaf001ab42ca9cf6024faa3269d5": {
     "views": []
    },
    "5233534fb4e241cc8876b1e1c14f4f5b": {
     "views": []
    },
    "52e3cc5186864cff9707b45c2eba9d22": {
     "views": []
    },
    "5307604d80b14f7cb24e3b019ca1e34b": {
     "views": []
    },
    "5317cd8294124bbd98afb8cce7682d37": {
     "views": []
    },
    "53a43aef5de241859a72c7bd7069fd4b": {
     "views": []
    },
    "53c91f642113426bb0a95e68f1384b38": {
     "views": []
    },
    "53f644631445483c8a88d072f1acf5fb": {
     "views": []
    },
    "543814a0e785497bb8bd8ee2c25d27cd": {
     "views": []
    },
    "546e2b8b41ec4e77a152c078e46ba861": {
     "views": []
    },
    "553469dcb18a48089bef755baf29829a": {
     "views": []
    },
    "558ae5171c5b4493b304b5f87285beb1": {
     "views": []
    },
    "55932e6b5fad4080b3522f79f03623e9": {
     "views": []
    },
    "5632225d6a044f3da36cf66e09194b4e": {
     "views": []
    },
    "57986f40e1364ab1943abeb3690ade97": {
     "views": []
    },
    "57b15d1e12d94da1b11e4ca6622d3514": {
     "views": []
    },
    "584331a4ac1e4c3ca7db3917607eeec1": {
     "views": []
    },
    "586695c066844a57b2e52b9ed88bbd3a": {
     "views": []
    },
    "58933c1d1a1c40f3b253c099548ab900": {
     "views": []
    },
    "58fdcb527b2d4cfb95ecf49c694e4fe6": {
     "views": []
    },
    "5a20f63c6e7143a3b07fd22687da588c": {
     "views": []
    },
    "5a8ca669b54a45749668453543605c81": {
     "views": []
    },
    "5b020fec3e864361928dafb151171f9b": {
     "views": []
    },
    "5b7aaa2f8d8945df9e0b42edff854b38": {
     "views": []
    },
    "5be6e9a9fcd94b0d80f1795cc5f9bc0b": {
     "views": []
    },
    "5bf82aa6ee4f46df864b695b11af8984": {
     "views": []
    },
    "5c1f932438034fe2984b1c694339d81b": {
     "views": []
    },
    "5c94e9199e3b4f9b9bbf73b0f952e1f5": {
     "views": []
    },
    "5ca8496b09b74c86956741bb3ecaaba6": {
     "views": []
    },
    "5f9a8cc7911f44e3abf9372c1e365e03": {
     "views": []
    },
    "601ce5c3b753415ea0dd7f8ad5c45186": {
     "views": []
    },
    "603ad6e7ec0a469695f9b251f064beaf": {
     "views": []
    },
    "605d1c3a65a7498e9517209292db27ba": {
     "views": []
    },
    "60801d5b3da2414e93e5bddd9996911f": {
     "views": []
    },
    "62eb043257f04333be9075e9ca4cf073": {
     "views": []
    },
    "633807d787d74cd68ca6d164631dfe7d": {
     "views": []
    },
    "63d63a72a6944fb1ae6fc0db0f79539d": {
     "views": []
    },
    "63ee365342104563940d3d02429e401b": {
     "views": []
    },
    "64b0686fc52b4bb49c13c0d212ca5569": {
     "views": []
    },
    "65bdc54d290c4a5ba1e7690e792adf03": {
     "views": []
    },
    "661295ae789b4752a87b3235f6d75d1a": {
     "views": []
    },
    "6660c1c5650349abb91e3efe29363707": {
     "views": []
    },
    "66975efdaa3044b2a49c935fcd3e0092": {
     "views": []
    },
    "66f4615090ee43bd909cd4a9532a676f": {
     "views": []
    },
    "6840a5b26f4a4afa9341bf633b9a8d64": {
     "views": []
    },
    "6854467fa5984fe98b4bd4efe2a4db9d": {
     "views": []
    },
    "68ea3f351b564045a286d92b9a140992": {
     "views": []
    },
    "698eb545f9e54b068394aa290226c7f5": {
     "views": []
    },
    "6a3a633baf8341b2b6068555120552e8": {
     "views": []
    },
    "6a7112077b7f4ea8bcbfff055fabaace": {
     "views": []
    },
    "6a7a1448837341fda72bc533f063dd42": {
     "views": []
    },
    "6a932632c6584365ab6245a9e33c6b68": {
     "views": []
    },
    "6ab4c58c7b6040e68e9df35e80e57985": {
     "views": []
    },
    "6b8f45b076184e2fab97c82e9b26568f": {
     "views": []
    },
    "6ca588cedf42496cbc5316dc77c41e74": {
     "views": []
    },
    "6d3dc6f11ab04793a325ac84a586ddd4": {
     "views": []
    },
    "6d481c10651a4ec59d4e7da56856057d": {
     "views": []
    },
    "6e0f22ca203c40209fcd151edf3f8d2f": {
     "views": []
    },
    "6f7a3e2426e249349842ea6f8494cd1d": {
     "views": []
    },
    "6fd7b6e982074c66ac074f641e690a1f": {
     "views": []
    },
    "70766c6e469f4bc098000d9d6fb3822e": {
     "views": []
    },
    "709c6cae284141aa890f6094b3bacecc": {
     "views": []
    },
    "70ec08144b144214827bad90960f2f10": {
     "views": []
    },
    "71ed77c391d5415b9e31386371a21561": {
     "views": []
    },
    "7225021fb04c4f0ba14240b4e8ae33c5": {
     "views": []
    },
    "727903370b014a71913e9bd3ec464624": {
     "views": []
    },
    "72945ed1bef241fc83645ccc1529b77c": {
     "views": []
    },
    "72c197d5e5484664945bae40e5dad176": {
     "views": []
    },
    "72c70bd1855a49d0a1d03c2813bfa2fc": {
     "views": []
    },
    "72d712f2ac7d478e8848623e51b42db1": {
     "views": []
    },
    "744d260f996f45c880e8813296ef70a4": {
     "views": []
    },
    "748bfaa17baf4acba16027128133d8f2": {
     "views": []
    },
    "74bbcb3456194750938533476566358d": {
     "views": []
    },
    "7563c03d0dc4455aa0a714e5a1543ff7": {
     "views": []
    },
    "761410f3ac114f1798cfbee5b36cb7cc": {
     "views": []
    },
    "76a48166116b4709a0c8c729b04fba42": {
     "views": []
    },
    "78c9b7e0d148472c97c2f9ac191e7857": {
     "views": []
    },
    "78f8b5760db64cadaf1b75312e1eef26": {
     "views": []
    },
    "79c153e10e3f402483f59f6002f0567c": {
     "views": []
    },
    "7b164b884d67452c9d3b4250a7846068": {
     "views": []
    },
    "7b2dd84c436c46ba872d8aae3d2861ab": {
     "views": []
    },
    "7b962ffd83f544ea84814ca80b4f6517": {
     "views": []
    },
    "7d52d16760374e5ead508fe02da8ae11": {
     "views": []
    },
    "7d9413a59fc14fbf84ea2f07547bd56c": {
     "views": []
    },
    "7da4c26e4b7347a08f03894468cbd60a": {
     "views": []
    },
    "7dd0f7a9566840c1916c1d6218e818e6": {
     "views": []
    },
    "7e1a5597621349deb61b5c0bbf40b8f9": {
     "views": []
    },
    "7e61966d4aea48f68710fa69b571c334": {
     "views": []
    },
    "7e88533073464b2baeb05b6ac06f02f8": {
     "views": []
    },
    "7e8d4727b56d46e1a859f8573e3f648e": {
     "views": []
    },
    "7fc30925696345a0bc09f7183deb5598": {
     "views": []
    },
    "7fdb2fd75c484963990a5ffb5c64fabc": {
     "views": []
    },
    "7fe4d7701c614f829bd28a3c6f71a690": {
     "views": []
    },
    "8135a4120e72407782141bb17bfdc97c": {
     "views": []
    },
    "81b91f9222f846e8ad522d5d46a40687": {
     "views": []
    },
    "81d7d55712b14e989a342aa7d9baab40": {
     "views": []
    },
    "83bb13c2c63e47d6a0f816d0cf5a2d00": {
     "views": []
    },
    "84570b4292aa4c3b9585c3201d72a99a": {
     "views": []
    },
    "84b012483948496592be9a9704a1efd1": {
     "views": []
    },
    "857e50d947ee493aa20c58fdc4d62d2c": {
     "views": []
    },
    "8696ed91c0a940d59721d93c8a70a357": {
     "views": []
    },
    "86e06fff3f374d50830dbfb7a189cebb": {
     "views": []
    },
    "8790d04093974ebb82bc411f37704caf": {
     "views": []
    },
    "88f6bc7ec7aa47078661a2173a633ca0": {
     "views": []
    },
    "89a92a60aa0a4d19a5f05e3af4d654df": {
     "views": []
    },
    "8abbd99180bd4402bc528ddb1037f10c": {
     "views": []
    },
    "8aef42e6f46e45f5b61e5aae6d3316cf": {
     "views": []
    },
    "8b805c6830864b84a8fa6d56610f4a82": {
     "views": []
    },
    "8c8c5d48320241d594fb8871d2a6d245": {
     "views": []
    },
    "8cd653a359144471acf2c7a5695f4a86": {
     "views": []
    },
    "8d5206d3d958452daa5f2a0e138d2dae": {
     "views": []
    },
    "8de22cf06c8d42ab9479f2f3c4716887": {
     "views": []
    },
    "8e6a6d3d8e9644ae89b72c55f18a10cf": {
     "views": []
    },
    "8ebe1442080a46ac845c0efc0e0b9b95": {
     "views": []
    },
    "8fbb0a9df51f4979bb7ad7f11310ee4e": {
     "views": []
    },
    "901f5e9a12614b55900643fde5668375": {
     "views": []
    },
    "9021e358f6944fcaa74d46056ee4b5f3": {
     "views": []
    },
    "919460e44fa2471a8d8a23297541b43e": {
     "views": []
    },
    "91e4c39e23a14cce81e1ea999aa140e9": {
     "views": []
    },
    "9247aaf0221547cf9ecf18f3238c9421": {
     "views": []
    },
    "924c8d20f0f24e69aa22a5b05275f501": {
     "views": []
    },
    "9251563c7ae2454a935cf53d46d541af": {
     "views": []
    },
    "92a87df1610c4c5e8601beec2c871d00": {
     "views": []
    },
    "92b27b1cbbd04ac39521d8575b972775": {
     "views": []
    },
    "93972a49949440d2a4d489546c9da136": {
     "views": []
    },
    "93d03416b5474fd695ce8788e1c84d74": {
     "views": []
    },
    "9411546568ea46d49ff2f3a724e6d630": {
     "views": []
    },
    "95150c10e033498a9ff265803396ac2a": {
     "views": []
    },
    "952888242eff4f0c922b015ead977608": {
     "views": []
    },
    "95298b672bac458ea3be962bb6f2752a": {
     "views": []
    },
    "95ac4b308b3d4d16b207773737d16dd9": {
     "views": []
    },
    "972bdd89e0df4b4f872cac00772bc2e1": {
     "views": []
    },
    "972ff65276c544b5906d3ad43cabeea7": {
     "views": []
    },
    "9757e3485e7449389f795a04ee8e867a": {
     "views": []
    },
    "976d225689414c53964a69200daa0fcc": {
     "views": []
    },
    "97ddf070e3bd44cca220631a1b0a714e": {
     "views": []
    },
    "98934c88398b457dbeda6d4e7b9cd7c0": {
     "views": []
    },
    "991e075d2d0647fd841ade9a3d2277c1": {
     "views": []
    },
    "99620d1171594776aa2edd84cfb1b0e3": {
     "views": []
    },
    "9974a02c174340138969fd4e25b0e894": {
     "views": []
    },
    "999bad85e84747b58a119294048ebe0b": {
     "views": []
    },
    "99d80bacb1e84d959a81b1f3855f3642": {
     "views": []
    },
    "9a14dfa565e741d8934239113565a966": {
     "views": []
    },
    "9a47ccc8ecb243c9a0c54fa7d25e1af2": {
     "views": []
    },
    "9ad034fc2b9049aa879da0d086c49ce0": {
     "views": []
    },
    "9ade6689cd62424fb6e8601df9848403": {
     "views": []
    },
    "9b234fadf69d450bb4661849c3b6938f": {
     "views": []
    },
    "9d1199b8dc444edcb3db5001828ba6b4": {
     "views": []
    },
    "9e455f042d764462aef56136f64a0cac": {
     "views": []
    },
    "9ea12e51347c41569bb1eb01064d7640": {
     "views": []
    },
    "9ea1729e1a384abbb255922a0ac8baa6": {
     "views": []
    },
    "9fcd0beb13da46faabba2cd529b0d1fe": {
     "views": []
    },
    "9fe2dd33b8c34c47b7dd10a26beaf9c9": {
     "views": []
    },
    "a0258c1472eb48a68cbe41206ce583c3": {
     "views": []
    },
    "a08ae97a910f4532ba1d99a00d707480": {
     "views": []
    },
    "a0aa2ff25f5a4db28252fb34ef1eb9b7": {
     "views": []
    },
    "a0e68d2e28af4652bd52fc9489495f32": {
     "views": []
    },
    "a1025f4bd6f245b2a4cdad43d842bc57": {
     "views": []
    },
    "a17502f6fe33402295a7c68efda4587e": {
     "views": []
    },
    "a19f39514c424c618064446af8fd9ee4": {
     "views": []
    },
    "a2f0eaa587004e46a7ae22fc4cdf0f9c": {
     "views": []
    },
    "a3776600a45a4fd581e542c86dc2cb6f": {
     "views": []
    },
    "a3d97840c2c44e25805f668a0da219e8": {
     "views": []
    },
    "a47ffd421e2c46de86c8109b30d01387": {
     "views": []
    },
    "a4c2e63bd0e042218809aa7cc5532a56": {
     "views": []
    },
    "a55adfe7e10e4ebbbf8ac2346fb4f68d": {
     "views": []
    },
    "a62aa14f0dde4725b9937ebd3eaf3e91": {
     "views": []
    },
    "a62f1a8c1a534e54b80a54cd2b3c699d": {
     "views": []
    },
    "a70a315638204cd8aeb5e2f41b295e68": {
     "views": []
    },
    "a85265fd67be4bdbb9a4fbf268a8fa55": {
     "views": []
    },
    "a8b8408c4aef414ba79323ac1652e729": {
     "views": []
    },
    "aa694b7378984e4787d43fd23d7dcda1": {
     "views": []
    },
    "acc406cf368b4f86a2d2ec1db106b410": {
     "views": []
    },
    "acef447643be4d0f85390aefc378a7c7": {
     "views": []
    },
    "ad81cc4266694ce6bfdac417aee9347c": {
     "views": []
    },
    "ae23e2cecade4cac9c112f89269d01f5": {
     "views": []
    },
    "aeb78e3840ce4ea2a1e0778a93b4fe97": {
     "views": []
    },
    "af0945d5c8ee4249bbfbb9337b5fba4e": {
     "views": []
    },
    "b0e9ad048b544d1d82bb382f2c6c82fe": {
     "views": []
    },
    "b0f2a2ffa1764e028f64d6045980742a": {
     "views": []
    },
    "b13045a4a4874415aa4a03088d190f50": {
     "views": []
    },
    "b1962c3f2fac4d2d90b2e322b5a220d9": {
     "views": []
    },
    "b1c807879e704ea192048716b8d9b244": {
     "views": []
    },
    "b1d54deed8ff49b4bab23f0c1b0515c8": {
     "views": []
    },
    "b2341a709c7e43a79929062647629145": {
     "views": []
    },
    "b53bfd5f18af4c039c253f99ade784ab": {
     "views": []
    },
    "b5b08f69b1114e149bdf1d97082ee326": {
     "views": []
    },
    "b61406d0a42b4241aef9dfc87f4ca7f1": {
     "views": []
    },
    "b62821c155174eea991bd65f6e560619": {
     "views": []
    },
    "b62ad2446c324751bcedf72bac2c31f0": {
     "views": []
    },
    "b6b6ac288bea487f8650bfebc2f07124": {
     "views": []
    },
    "b6d75990896e4fc98ce4c4444b934219": {
     "views": []
    },
    "b73b8ea2c5364e48b0810db57efd4248": {
     "views": []
    },
    "b75498e1d0324e2a9d4cb5dc10a8664f": {
     "views": []
    },
    "b789af2a81ec4fd39edf3bc044091326": {
     "views": []
    },
    "b7ac51cee834422daf70d32c6ad30324": {
     "views": []
    },
    "b7b3711cac254ea1bd8f9a789acd73a5": {
     "views": []
    },
    "b908da948b83439a9fd67b1b15c138b5": {
     "views": []
    },
    "b948ba2a898e4f63822f521cb82b63fe": {
     "views": []
    },
    "b9b5485f01c6482caed1945c150ce77c": {
     "views": []
    },
    "bb8cdce10d064040af692abd7657f297": {
     "views": []
    },
    "bba51fc1b48f44ef8e94f6b98c4c7c2d": {
     "views": []
    },
    "bc1d4f9084174bd0bcd3da36991c29ad": {
     "views": []
    },
    "bc72f940085d488aa6f03e7918e03e89": {
     "views": []
    },
    "bca73930c35c4c1a820a4ce806614bcf": {
     "views": []
    },
    "bd5ea9b096034eeaba28d4002dff2667": {
     "views": []
    },
    "bdf8ab3b6d78414985da96c4c1f7da48": {
     "views": []
    },
    "be020c0334b848818e920485fc1409b8": {
     "views": []
    },
    "be2c0e91e6334831b3dade5c3fff137a": {
     "views": []
    },
    "c08359c4b7bd4065842813c76d927fb9": {
     "views": []
    },
    "c11e3d4f35364311a708f934c691fa4e": {
     "views": []
    },
    "c11edb92bc164977a8a0ed6bad027c93": {
     "views": []
    },
    "c1cc374188644548ba901c040aa047c9": {
     "views": []
    },
    "c213f66105aa4201a9a73e6cbfd1e30e": {
     "views": []
    },
    "c22c11f4c863417d9809305ee66531db": {
     "views": []
    },
    "c2502e491c3441fdada63e7490526fd7": {
     "views": []
    },
    "c2c02bfe979e41e0b14895a4eb5bcb7f": {
     "views": []
    },
    "c3237a0808454e618ef3f2940bee3b78": {
     "views": []
    },
    "c3a5d266505e445ead0fb6b8b132f6e7": {
     "views": []
    },
    "c3a78e5328ed4c02ad90cdd29e1b944e": {
     "views": []
    },
    "c3e9e6f82fed470683d57caa812e1b9a": {
     "views": []
    },
    "c5594f242a10402a855d3261605f1839": {
     "views": []
    },
    "c5eb099eeb5041b793c935a61c8a52d3": {
     "views": []
    },
    "c61079c4a8aa4ce6819862ca7bfa856c": {
     "views": []
    },
    "c627e2347c2043caa99be146bdbc4301": {
     "views": []
    },
    "c663a322b9e14bcb802b5c4e9cedea39": {
     "views": []
    },
    "c673383de90e4bc88057f121afae8cd5": {
     "views": []
    },
    "c6c0a65f19ba496fb574d20569cf6594": {
     "views": []
    },
    "c751b1b5799146968c51b6f2b6f0e2e4": {
     "views": []
    },
    "c77bcf201a004f5ea9409c67df4d3d9f": {
     "views": []
    },
    "c78e6ebabff94a8f864fda4150555bc5": {
     "views": []
    },
    "c8c5a0b41f1445fd85bcf6b6e99242fe": {
     "views": []
    },
    "c8ded1b2a36c4479ab118b620f394f43": {
     "views": []
    },
    "c945f8dd93f34fe5a83c5c1375159be0": {
     "views": []
    },
    "ca54da36b9474cff8de9d29f6a9ead8c": {
     "views": []
    },
    "ca652b76eb78481e8500ae3a0b44b7b2": {
     "views": []
    },
    "ca6cd6e5096e42d6b3600cfcf792ba3a": {
     "views": []
    },
    "ca77db5415404d55a35b525e3f53754d": {
     "views": []
    },
    "ca9ded1ff21d4abe8e2bb1ea0359b4ca": {
     "views": []
    },
    "cbaf209915e547378b3d1db33f665260": {
     "views": []
    },
    "cc41f71ef85e486f80403d428fb6d1fc": {
     "views": []
    },
    "ccf43fb6c1ab46d5a82c4fb6decba858": {
     "views": []
    },
    "cd4796875181450bb106375f53a4ddc1": {
     "views": []
    },
    "cd99af83f1ff4256b16fa67634cbb498": {
     "views": []
    },
    "ce096f2d77cc4d70a79ff9b002007eab": {
     "views": []
    },
    "ce141aa247084761aaa78d87d5c58e02": {
     "views": []
    },
    "ce182be837c74901af1abbb7492ec070": {
     "views": []
    },
    "cea779e31ec240d99d310b37148d40ed": {
     "views": []
    },
    "cedd4077cdb444c2b1368635a5ca8d40": {
     "views": []
    },
    "d00ac1fd9f26461089832b157b1aa6b3": {
     "views": []
    },
    "d098a3b9cc6c46989ad8770e2e354ab9": {
     "views": []
    },
    "d10e56c377c94cf6a260e4080126a3fd": {
     "views": []
    },
    "d2a4ad2a5b054383af66155e36245899": {
     "views": []
    },
    "d2d25aff6fbb40dea34cbfdd76f3833b": {
     "views": []
    },
    "d30a9110fabd4bc49c63548aa4b7301c": {
     "views": [
      {
       "cell_index": 3
      }
     ]
    },
    "d33cbde40dbe4b70be07a188fa9ada1b": {
     "views": []
    },
    "d345b831a9ed4ec0a528ae189216c7eb": {
     "views": []
    },
    "d40fae5d3cfa4cd3ac1d49d01856c83a": {
     "views": []
    },
    "d424c93431ed457f9e7ff9d1b6580703": {
     "views": []
    },
    "d48ba729ee0a40f1b1efa232c1466dc0": {
     "views": []
    },
    "d4b68bb0fe194cd8b394ab6f18c79647": {
     "views": []
    },
    "d5a2090621824346a0d4fa64cf01fc00": {
     "views": []
    },
    "d6019d00dc6d40838838af9ba8902e4f": {
     "views": []
    },
    "d651a1b197e246babe453786ef42f82b": {
     "views": []
    },
    "dbc00667034c4c89837b0951c6e6c61d": {
     "views": []
    },
    "dc5ec0ed7cc543659e1efee28ce08ef8": {
     "views": []
    },
    "dcb1fa128b724b8ea121ce614d58fca7": {
     "views": []
    },
    "dd041f1e67db4bdca4a2251a012eca6f": {
     "views": []
    },
    "dd9cc3f53bf343fcabd734a806ba432b": {
     "views": []
    },
    "de9edb9882fa48f7a995247477c6be42": {
     "views": []
    },
    "dea84f4e72bc4e9ba450d1df42c6598c": {
     "views": []
    },
    "df0c7bebe9a44145988348ae0523f044": {
     "views": []
    },
    "df29fdd9e8e04a0a8618d4557840c673": {
     "views": []
    },
    "df5eb204f26242c7b2ec0c4b31378a05": {
     "views": []
    },
    "dfff33ca4f994137a9ab31b9e8236aa9": {
     "views": []
    },
    "e0895173947e4ef9b276c5b125df854b": {
     "views": []
    },
    "e0b964a2dede403c92f1f44c6959b456": {
     "views": []
    },
    "e1bfb186747d40d1b5dde4e937bee28e": {
     "views": []
    },
    "e1dfc1d78954427e942eace3048fffec": {
     "views": []
    },
    "e3659735e716485897d179de586eba9c": {
     "views": []
    },
    "e3b00768f2d64b96b8ced844289906dd": {
     "views": []
    },
    "e3bb9edf9bca41f9b11ee77631ab8a4c": {
     "views": []
    },
    "e424d070860f478689c8d83a43284f6f": {
     "views": []
    },
    "e457588600d744ae96bd4bb6aebc5174": {
     "views": []
    },
    "e4690fbefed6479fa73afd38e9b9cdec": {
     "views": []
    },
    "e4ef9f7ef4584267accb35f98b3ae0ca": {
     "views": []
    },
    "e5f435b2678045b791b92af46023b076": {
     "views": []
    },
    "e72f46beaf7343d695bd7076a3cbb2bb": {
     "views": []
    },
    "e77a70e4de3a4b45b181b1948a9694c5": {
     "views": []
    },
    "e8486f1821b343c4aae884bb9e231df0": {
     "views": []
    },
    "e9bf8bdef1144215b1f792d2fc64cf6a": {
     "views": []
    },
    "e9c9b5afb2b64b90a0c3c8e04db0426c": {
     "views": []
    },
    "e9f75d626b8e4446ab542e3de1c33357": {
     "views": []
    },
    "e9f7985f69ca41ae909a052ee2738753": {
     "views": []
    },
    "ea278c01f005498e8a633e21308a429b": {
     "views": []
    },
    "ea457cafe1614cc0b1a3fec68e6e0723": {
     "views": []
    },
    "ea597df07c8d42bf8621a399d3ef36d2": {
     "views": []
    },
    "eb6c09615cb549fb8808b25e0491e223": {
     "views": []
    },
    "eb9ac452a60c4dcf8ef3386a4512df12": {
     "views": []
    },
    "ecdaa791a3fa4276afdce4030439fac3": {
     "views": []
    },
    "ecf521d359ac4f06bb5dfcc498abc405": {
     "views": []
    },
    "ed299a8ef5014cb0a7a1337ca7cfe34a": {
     "views": []
    },
    "edb08229a19647d5bb1cf830008edc36": {
     "views": []
    },
    "edf00149c9454603a5bd9267edaa306b": {
     "views": []
    },
    "ee23051aa4764d1e9f467f283e10a838": {
     "views": []
    },
    "eeedf2afc6974b95999bef573c307bc2": {
     "views": []
    },
    "ef0ec832a356466398a15534e4cd1669": {
     "views": []
    },
    "ef19ba475431415f9b6b1e7a6669a8cc": {
     "views": []
    },
    "ef4caaf3f0ea40fab08844730b8004a3": {
     "views": []
    },
    "ef9fd6a7ce7044be9993e77a1fe00c8d": {
     "views": []
    },
    "efbed106113446d29b75239b4e3eb647": {
     "views": []
    },
    "efd5abc13f374cde9cb5b7367ac7731b": {
     "views": []
    },
    "f08afa27085345938612050c40f74c87": {
     "views": [
      {
       "cell_index": 6
      }
     ]
    },
    "f16c7877e9e14a48b86b66e84f230c70": {
     "views": []
    },
    "f2fc5303eeb14b3da6ef06a8c0830c91": {
     "views": []
    },
    "f49b59b37b594f8397f9ff42b9483f23": {
     "views": []
    },
    "f49c15a76b544bdcaa7d64333eb21c15": {
     "views": []
    },
    "f4b0d56a52a14b538ff15becd567b7ff": {
     "views": []
    },
    "f51ec6678ba7405ebddb088b13369b46": {
     "views": []
    },
    "f5b18dd8c59a4eb49730cda6054868d6": {
     "views": []
    },
    "f5f5a135bd8149a28214b192e451d29b": {
     "views": []
    },
    "f62451d10f204b1d8b375a78ece0b03a": {
     "views": []
    },
    "f6910a224c1148b28625b67dd72a957b": {
     "views": []
    },
    "f6944af0cf1c432da2fb4f74d6b539df": {
     "views": []
    },
    "f6adabfa814047b59f7c42de897762d3": {
     "views": []
    },
    "f7b667fcace740988efeb1d003a2b0b5": {
     "views": []
    },
    "f7c0565259294b4681126472e44e9a2e": {
     "views": []
    },
    "f8a74751e1f84990943a6b1dd1f7ccf9": {
     "views": []
    },
    "f93034c2f3224512a71c93f9dd4a726a": {
     "views": []
    },
    "f954a3966a324fd89fb599a96c74a0af": {
     "views": []
    },
    "fb7f5f4ae1f44323abe83233229cceb5": {
     "views": []
    },
    "fbe6efb41d60465aba8f6ad02e8ab6b3": {
     "views": []
    },
    "fcd488cf79ed464ca457317e6f2b51ff": {
     "views": []
    },
    "fd9224d7acdb496c8d23eaaf207109c6": {
     "views": []
    },
    "ff9bb6120d684e0f8827813101589bdc": {
     "views": []
    },
    "ff9e9bfc37aa4136bfc2188860034834": {
     "views": []
    }
   },
   "version": "1.1.2"
  }
 },
 "nbformat": 4,
 "nbformat_minor": 0
}
