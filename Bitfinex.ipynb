{
 "cells": [
  {
   "cell_type": "code",
   "execution_count": 6,
   "metadata": {},
   "outputs": [],
   "source": [
    "from bitfinex.client import Client\n",
    "import pandas as pd"
   ]
  },
  {
   "cell_type": "code",
   "execution_count": 2,
   "metadata": {},
   "outputs": [],
   "source": [
    "client = Client()"
   ]
  },
  {
   "cell_type": "code",
   "execution_count": 3,
   "metadata": {},
   "outputs": [
    {
     "name": "stdout",
     "output_type": "stream",
     "text": [
      "['btcusd', 'ltcusd', 'ltcbtc']\n"
     ]
    }
   ],
   "source": [
    "symbols = client.symbols()\n",
    "print(symbols)"
   ]
  },
  {
   "cell_type": "code",
   "execution_count": 4,
   "metadata": {},
   "outputs": [
    {
     "name": "stdout",
     "output_type": "stream",
     "text": [
      "{'ask': 419.2, 'last_price': 419.11, 'mid': 419.165, 'bid': 419.13, 'timestamp': 1455824498.9249902}\n",
      "{'low': 412.51, 'volume': 29250.38944616, 'high': 426.21}\n",
      "[{'period': 1, 'volume': 29399.84345416}, {'period': 7, 'volume': 155817.01378548}, {'period': 30, 'volume': 762539.39413486}]\n"
     ]
    }
   ],
   "source": [
    "symbol = 'btcusd'\n",
    "\n",
    "print(client.ticker(symbol))\n",
    "print(client.today(symbol))\n",
    "print(client.stats(symbol))"
   ]
  },
  {
   "cell_type": "code",
   "execution_count": 5,
   "metadata": {},
   "outputs": [
    {
     "name": "stdout",
     "output_type": "stream",
     "text": [
      "{'asks': [{'period': 2, 'timestamp': 1455824464.0, 'frr': False, 'amount': 0.54303921, 'rate': 1.8614}, {'period': 15, 'timestamp': 1455821433.0, 'frr': False, 'amount': 41.71411403, 'rate': 1.8615}], 'bids': [{'period': 30, 'timestamp': 1455820017.0, 'frr': False, 'amount': 8.0, 'rate': 0.949}, {'period': 30, 'timestamp': 1455811938.0, 'frr': False, 'amount': 4.0, 'rate': 0.9344}]}\n",
      "{'asks': [{'timestamp': 1455824551.0, 'amount': 13.58, 'price': 419.18}, {'timestamp': 1455824549.0, 'amount': 5.9568, 'price': 419.19}], 'bids': [{'timestamp': 1455824546.0, 'amount': 1.62, 'price': 419.11}, {'timestamp': 1455824466.0, 'amount': 6.8957, 'price': 419.1}]}\n"
     ]
    }
   ],
   "source": [
    "parameters = {'limit_asks': 2, 'limit_bids': 2}\n",
    "\n",
    "print(client.lendbook('btc', parameters))\n",
    "print(client.order_book(symbol, parameters))"
   ]
  },
  {
   "cell_type": "code",
   "execution_count": null,
   "metadata": {},
   "outputs": [],
   "source": [
    ""
   ]
  }
 ],
 "metadata": {
  "kernelspec": {
   "display_name": "Python 3",
   "language": "python",
   "name": "python3"
  },
  "language_info": {
   "codemirror_mode": {
    "name": "ipython",
    "version": 3.0
   },
   "file_extension": ".py",
   "mimetype": "text/x-python",
   "name": "python",
   "nbconvert_exporter": "python",
   "pygments_lexer": "ipython3",
   "version": "3.4.3+"
  }
 },
 "nbformat": 4,
 "nbformat_minor": 0
}