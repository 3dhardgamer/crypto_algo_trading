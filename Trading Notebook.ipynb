{
 "cells": [
  {
   "cell_type": "markdown",
   "metadata": {},
   "source": [
    "Basic Trading Operation\n",
    "=============\n",
    "\n",
    "This notebook implements trading operations on ANX exchange, like authentication, visualization of series and results and the actual trading. Implementation of algorithms should be done in separate modules which can then be imported here."
   ]
  },
  {
   "cell_type": "code",
   "execution_count": 15,
   "metadata": {},
   "outputs": [],
   "source": [
    "import base64, hashlib, hmac, time, urllib, json\n",
    "from urllib.request import urlopen\n",
    "from getpass import getpass, getuser\n",
    "import requests\n",
    "base = 'https://anxpro.com/'\n",
    "keys = json.load(open('keys.json')) # This file must be created on disk with you authentication credentials"
   ]
  },
  {
   "cell_type": "markdown",
   "metadata": {},
   "source": [
    "Basic connection class\n",
    "-------------------------\n",
    "\n",
    "Below we define a basic connection class so that we can talk to the API, and test it by asking for the my order list."
   ]
  },
  {
   "cell_type": "code",
   "execution_count": 25,
   "metadata": {},
   "outputs": [
    {
     "data": {
      "text/plain": [
       "{'count': 0, 'orders': [], 'resultCode': 'OK', 'timestamp': 1452081334423}"
      ]
     },
     "execution_count": 25,
     "metadata": {},
     "output_type": "execute_result"
    }
   ],
   "source": [
    "def post_request(key, secret, path, data):\n",
    "    hmac_obj = hmac.new(secret, (path + chr(0) + data).encode('utf-8'), hashlib.sha512)\n",
    "    hmac_sign = base64.b64encode(hmac_obj.digest())\n",
    "\n",
    "    header = {\n",
    "        'Content-Type': 'application/json',\n",
    "        'User-Agent': 'anxv2 based client',\n",
    "        'Rest-Key': key,\n",
    "        'Rest-Sign': hmac_sign,\n",
    "    }\n",
    "\n",
    "    response = requests.post(base + path, headers=header, data=data)\n",
    "    return response.json()\n",
    "\n",
    "\n",
    "def gen_tonce():\n",
    "    return str(int(time.time() * 1e6))\n",
    "\n",
    "\n",
    "class ANX:\n",
    "\n",
    "    def __init__(self, key, secret):\n",
    "        self.key = key\n",
    "        self.secret = base64.b64decode(secret)\n",
    "\n",
    "    def request(self, path, params={}):\n",
    "        params = dict(params)\n",
    "        params['tonce'] = gen_tonce()\n",
    "        data = json.dumps(params)\n",
    "\n",
    "        result = post_request(self.key, self.secret, path, data)\n",
    "        \n",
    "        if result['resultCode'] == 'OK':\n",
    "            return result\n",
    "        else:\n",
    "            raise Exception(result['resultCode'])\n",
    "\n",
    "X = ANX(keys['ANX']['key'], keys['ANX']['secret'])\n",
    "result = X.request('api/3/order/list')\n",
    "result"
   ]
  },
  {
   "cell_type": "markdown",
   "metadata": {},
   "source": [
    "Getting an API Key\n",
    "---------------------\n",
    "Here we will try to generate and get an API key directly through the api. Alternatively, You can generate it directly through the web after logging in to your account at www.anxpro.com."
   ]
  },
  {
   "cell_type": "code",
   "execution_count": 27,
   "metadata": {},
   "outputs": [
    {
     "name": "stdout",
     "output_type": "stream",
     "text": [
      "enter your email:fccoelho@gmail.com\n",
      "Enter your password:········\n"
     ]
    }
   ],
   "source": [
    "user = input(\"enter your email:\")\n",
    "password = getpass(\"Enter your password:\")"
   ]
  },
  {
   "cell_type": "code",
   "execution_count": 28,
   "metadata": {},
   "outputs": [
    {
     "ename": "Exception",
     "evalue": "UNAUTHORISED",
     "traceback": [
      "\u001b[1;31m---------------------------------------------------------------------------\u001b[0m",
      "\u001b[1;31mException\u001b[0m                                 Traceback (most recent call last)",
      "\u001b[1;32m<ipython-input-28-04fdf1ed0867>\u001b[0m in \u001b[0;36m<module>\u001b[1;34m()\u001b[0m\n\u001b[0;32m      7\u001b[0m     \u001b[1;34m'deviceId'\u001b[0m\u001b[1;33m:\u001b[0m \u001b[1;34m'vaio'\u001b[0m\u001b[1;33m\u001b[0m\u001b[0m\n\u001b[0;32m      8\u001b[0m } \n\u001b[1;32m----> 9\u001b[1;33m \u001b[0mresp\u001b[0m \u001b[1;33m=\u001b[0m \u001b[0mX\u001b[0m\u001b[1;33m.\u001b[0m\u001b[0mrequest\u001b[0m\u001b[1;33m(\u001b[0m\u001b[1;34m'api/3/apiKey'\u001b[0m\u001b[1;33m,\u001b[0m \u001b[0mparams\u001b[0m\u001b[1;33m)\u001b[0m\u001b[1;33m\u001b[0m\u001b[0m\n\u001b[0m\u001b[0;32m     10\u001b[0m \u001b[1;33m\u001b[0m\u001b[0m\n\u001b[0;32m     11\u001b[0m \u001b[0mresp\u001b[0m\u001b[1;33m\u001b[0m\u001b[0m\n",
      "\u001b[1;32m<ipython-input-25-82c560303a36>\u001b[0m in \u001b[0;36mrequest\u001b[1;34m(self, path, params)\u001b[0m\n\u001b[0;32m     41\u001b[0m             \u001b[1;32mreturn\u001b[0m \u001b[0mresult\u001b[0m\u001b[1;33m\u001b[0m\u001b[0m\n\u001b[0;32m     42\u001b[0m         \u001b[1;32melse\u001b[0m\u001b[1;33m:\u001b[0m\u001b[1;33m\u001b[0m\u001b[0m\n\u001b[1;32m---> 43\u001b[1;33m             \u001b[1;32mraise\u001b[0m \u001b[0mException\u001b[0m\u001b[1;33m(\u001b[0m\u001b[0mresult\u001b[0m\u001b[1;33m[\u001b[0m\u001b[1;34m'resultCode'\u001b[0m\u001b[1;33m]\u001b[0m\u001b[1;33m)\u001b[0m\u001b[1;33m\u001b[0m\u001b[0m\n\u001b[0m\u001b[0;32m     44\u001b[0m \u001b[1;33m\u001b[0m\u001b[0m\n\u001b[0;32m     45\u001b[0m \u001b[0mX\u001b[0m \u001b[1;33m=\u001b[0m \u001b[0mANX\u001b[0m\u001b[1;33m(\u001b[0m\u001b[0mkeys\u001b[0m\u001b[1;33m[\u001b[0m\u001b[1;34m'ANX'\u001b[0m\u001b[1;33m]\u001b[0m\u001b[1;33m[\u001b[0m\u001b[1;34m'key'\u001b[0m\u001b[1;33m]\u001b[0m\u001b[1;33m,\u001b[0m \u001b[0mkeys\u001b[0m\u001b[1;33m[\u001b[0m\u001b[1;34m'ANX'\u001b[0m\u001b[1;33m]\u001b[0m\u001b[1;33m[\u001b[0m\u001b[1;34m'secret'\u001b[0m\u001b[1;33m]\u001b[0m\u001b[1;33m)\u001b[0m\u001b[1;33m\u001b[0m\u001b[0m\n",
      "\u001b[1;31mException\u001b[0m: UNAUTHORISED"
     ],
     "output_type": "error"
    }
   ],
   "source": [
    "#not working, ignore\n",
    "params = {\n",
    "    'nonce': str(int(time.time() * 1e6)),\n",
    "    'username': user,\n",
    "    'password': password,\n",
    "    'otp': \"400345\", #fill in from your cell phone,\n",
    "    'deviceId': 'vaio'\n",
    "} \n",
    "resp = X.request('api/3/apiKey', params)\n",
    "\n",
    "resp"
   ]
  },
  {
   "cell_type": "code",
   "execution_count": 18,
   "metadata": {},
   "outputs": [],
   "source": [
    "hmac.new?"
   ]
  },
  {
   "cell_type": "code",
   "execution_count": null,
   "metadata": {},
   "outputs": [],
   "source": [
    ""
   ]
  }
 ],
 "metadata": {
  "kernelspec": {
   "display_name": "Python 3",
   "language": "python",
   "name": "python3"
  },
  "language_info": {
   "codemirror_mode": {
    "name": "ipython",
    "version": 3
   },
   "file_extension": ".py",
   "mimetype": "text/x-python",
   "name": "python",
   "nbconvert_exporter": "python",
   "pygments_lexer": "ipython3",
   "version": "3.4.3+"
  }
 },
 "nbformat": 4,
 "nbformat_minor": 0
}
