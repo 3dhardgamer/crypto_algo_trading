{
 "cells": [
  {
   "cell_type": "markdown",
   "metadata": {},
   "source": [
    "Basic Trading Operation\n",
    "=============\n",
    "\n",
    "This notebook implements trading operations, like authentication, visualization of series and results and the actual trading. Implementation of algorithms should be done in separate modules which can then be imported here."
   ]
  },
  {
   "cell_type": "code",
   "execution_count": 1,
   "metadata": {
    "collapsed": false
   },
   "outputs": [],
   "source": [
    "import base64, hashlib, hmac, time, urllib, json\n",
    "from urllib.request import urlopen\n",
    "from getpass import getpass, getuser\n",
    "import requests\n",
    "base = 'https://anxpro.com'"
   ]
  },
  {
   "cell_type": "code",
   "execution_count": 3,
   "metadata": {
    "collapsed": false
   },
   "outputs": [
    {
     "ename": "Error",
     "evalue": "Incorrect padding",
     "output_type": "error",
     "traceback": [
      "\u001b[1;31m---------------------------------------------------------------------------\u001b[0m",
      "\u001b[1;31mError\u001b[0m                                     Traceback (most recent call last)",
      "\u001b[1;32m<ipython-input-3-27002756fc57>\u001b[0m in \u001b[0;36m<module>\u001b[1;34m()\u001b[0m\n\u001b[0;32m     41\u001b[0m             \u001b[1;32mraise\u001b[0m \u001b[0mException\u001b[0m\u001b[1;33m(\u001b[0m\u001b[0mresult\u001b[0m\u001b[1;33m[\u001b[0m\u001b[1;34m'result'\u001b[0m\u001b[1;33m]\u001b[0m\u001b[1;33m)\u001b[0m\u001b[1;33m\u001b[0m\u001b[0m\n\u001b[0;32m     42\u001b[0m \u001b[1;33m\u001b[0m\u001b[0m\n\u001b[1;32m---> 43\u001b[1;33m \u001b[0mx\u001b[0m \u001b[1;33m=\u001b[0m \u001b[0mANX\u001b[0m\u001b[1;33m(\u001b[0m\u001b[1;34m'<key>'\u001b[0m\u001b[1;33m,\u001b[0m \u001b[1;34m'<secret>'\u001b[0m\u001b[1;33m)\u001b[0m\u001b[1;33m\u001b[0m\u001b[0m\n\u001b[0m\u001b[0;32m     44\u001b[0m \u001b[0mresult\u001b[0m \u001b[1;33m=\u001b[0m \u001b[0mx\u001b[0m\u001b[1;33m.\u001b[0m\u001b[0mrequest\u001b[0m\u001b[1;33m(\u001b[0m\u001b[1;34m'api/3/order/list'\u001b[0m\u001b[1;33m)\u001b[0m\u001b[1;33m\u001b[0m\u001b[0m\n",
      "\u001b[1;32m<ipython-input-3-27002756fc57>\u001b[0m in \u001b[0;36m__init__\u001b[1;34m(self, key, secret)\u001b[0m\n\u001b[0;32m     27\u001b[0m     \u001b[1;32mdef\u001b[0m \u001b[0m__init__\u001b[0m\u001b[1;33m(\u001b[0m\u001b[0mself\u001b[0m\u001b[1;33m,\u001b[0m \u001b[0mkey\u001b[0m\u001b[1;33m,\u001b[0m \u001b[0msecret\u001b[0m\u001b[1;33m)\u001b[0m\u001b[1;33m:\u001b[0m\u001b[1;33m\u001b[0m\u001b[0m\n\u001b[0;32m     28\u001b[0m         \u001b[0mself\u001b[0m\u001b[1;33m.\u001b[0m\u001b[0mkey\u001b[0m \u001b[1;33m=\u001b[0m \u001b[0mkey\u001b[0m\u001b[1;33m\u001b[0m\u001b[0m\n\u001b[1;32m---> 29\u001b[1;33m         \u001b[0mself\u001b[0m\u001b[1;33m.\u001b[0m\u001b[0msecret\u001b[0m \u001b[1;33m=\u001b[0m \u001b[0mbase64\u001b[0m\u001b[1;33m.\u001b[0m\u001b[0mb64decode\u001b[0m\u001b[1;33m(\u001b[0m\u001b[0msecret\u001b[0m\u001b[1;33m)\u001b[0m\u001b[1;33m\u001b[0m\u001b[0m\n\u001b[0m\u001b[0;32m     30\u001b[0m \u001b[1;33m\u001b[0m\u001b[0m\n\u001b[0;32m     31\u001b[0m     \u001b[1;32mdef\u001b[0m \u001b[0mrequest\u001b[0m\u001b[1;33m(\u001b[0m\u001b[0mself\u001b[0m\u001b[1;33m,\u001b[0m \u001b[0mpath\u001b[0m\u001b[1;33m,\u001b[0m \u001b[0mparams\u001b[0m\u001b[1;33m=\u001b[0m\u001b[1;33m{\u001b[0m\u001b[1;33m}\u001b[0m\u001b[1;33m)\u001b[0m\u001b[1;33m:\u001b[0m\u001b[1;33m\u001b[0m\u001b[0m\n",
      "\u001b[1;32m/usr/lib/python3.4/base64.py\u001b[0m in \u001b[0;36mb64decode\u001b[1;34m(s, altchars, validate)\u001b[0m\n\u001b[0;32m     88\u001b[0m     \u001b[1;32mif\u001b[0m \u001b[0mvalidate\u001b[0m \u001b[1;32mand\u001b[0m \u001b[1;32mnot\u001b[0m \u001b[0mre\u001b[0m\u001b[1;33m.\u001b[0m\u001b[0mmatch\u001b[0m\u001b[1;33m(\u001b[0m\u001b[1;34mb'^[A-Za-z0-9+/]*={0,2}$'\u001b[0m\u001b[1;33m,\u001b[0m \u001b[0ms\u001b[0m\u001b[1;33m)\u001b[0m\u001b[1;33m:\u001b[0m\u001b[1;33m\u001b[0m\u001b[0m\n\u001b[0;32m     89\u001b[0m         \u001b[1;32mraise\u001b[0m \u001b[0mbinascii\u001b[0m\u001b[1;33m.\u001b[0m\u001b[0mError\u001b[0m\u001b[1;33m(\u001b[0m\u001b[1;34m'Non-base64 digit found'\u001b[0m\u001b[1;33m)\u001b[0m\u001b[1;33m\u001b[0m\u001b[0m\n\u001b[1;32m---> 90\u001b[1;33m     \u001b[1;32mreturn\u001b[0m \u001b[0mbinascii\u001b[0m\u001b[1;33m.\u001b[0m\u001b[0ma2b_base64\u001b[0m\u001b[1;33m(\u001b[0m\u001b[0ms\u001b[0m\u001b[1;33m)\u001b[0m\u001b[1;33m\u001b[0m\u001b[0m\n\u001b[0m\u001b[0;32m     91\u001b[0m \u001b[1;33m\u001b[0m\u001b[0m\n\u001b[0;32m     92\u001b[0m \u001b[1;33m\u001b[0m\u001b[0m\n",
      "\u001b[1;31mError\u001b[0m: Incorrect padding"
     ]
    }
   ],
   "source": [
    "def post_request(key, secret, path, data):\n",
    "    hmac_obj = hmac.new(secret, path + chr(0) + data, hashlib.sha512)\n",
    "    hmac_sign = base64.b64encode(hmac_obj.digest())\n",
    "\n",
    "    header = {\n",
    "        'Content-Type': 'application/json',\n",
    "        'User-Agent': 'anxv2 based client',\n",
    "        'Rest-Key': key,\n",
    "        'Rest-Sign': hmac_sign,\n",
    "    }\n",
    "\n",
    "    proxy = urllib2.ProxyHandler({'http': '127.0.0.1:8888'})\n",
    "    opener = urllib2.build_opener(proxy)\n",
    "    urllib2.install_opener(opener)\n",
    "\n",
    "    request = urllib2.Request(base + path, data, header)\n",
    "    response = urllib2.urlopen(request, data)\n",
    "    return json.load(response)\n",
    "\n",
    "\n",
    "def gen_tonce():\n",
    "    return str(int(time.time() * 1e6))\n",
    "\n",
    "\n",
    "class ANX:\n",
    "\n",
    "    def __init__(self, key, secret):\n",
    "        self.key = key\n",
    "        self.secret = base64.b64decode(secret)\n",
    "\n",
    "    def request(self, path, params={}):\n",
    "        params = dict(params)\n",
    "        params['tonce'] = gen_tonce()\n",
    "        # data = urllib.urlencode(params)\n",
    "        data = json.dumps(params)\n",
    "\n",
    "        result = post_request(self.key, self.secret, path, data)\n",
    "        if result['result'] == 'success':\n",
    "            return result['data']\n",
    "        else:\n",
    "            raise Exception(result['result'])\n",
    "\n",
    "x = ANX('<key>', '<secret>')\n",
    "result = x.request('api/3/order/list')"
   ]
  },
  {
   "cell_type": "markdown",
   "metadata": {},
   "source": [
    "Getting an API Key\n",
    "---------------------\n",
    "Here we will try to generate and get an API key directly through the api. Alternatively, You can generate it directly through the web after logging in to your account at www.anxpro.com."
   ]
  },
  {
   "cell_type": "code",
   "execution_count": 10,
   "metadata": {
    "collapsed": false
   },
   "outputs": [
    {
     "name": "stdout",
     "output_type": "stream",
     "text": [
      "enter your email:fccoelho@gmail.com\n",
      "Enter your password:········\n"
     ]
    }
   ],
   "source": [
    "user = input(\"enter your email:\")\n",
    "password = getpass(\"Enter your password:\")"
   ]
  },
  {
   "cell_type": "code",
   "execution_count": 30,
   "metadata": {
    "collapsed": false
   },
   "outputs": [
    {
     "name": "stdout",
     "output_type": "stream",
     "text": [
      "403\n",
      "b'{\"resultCode\":\"INVALID_PARAMETERS\",\"timestamp\":1451867718729}'\n"
     ]
    }
   ],
   "source": [
    "\n",
    "params = {\n",
    "    'nonce': str(int(time.time() * 1e6)),\n",
    "    'username': user,\n",
    "    'password': password,\n",
    "    'otp': \"400345\", #fill in from your cell phone,\n",
    "    'deviceId': 'vaio'\n",
    "} \n",
    "def get_key(params):\n",
    "    resp = requests.post(base+'/api/3/apiKey', headers=header, data=params)\n",
    "    return resp\n",
    "\n",
    "resp = get_key(params)\n",
    "print(resp.status_code)\n",
    "print(resp.content)"
   ]
  },
  {
   "cell_type": "code",
   "execution_count": null,
   "metadata": {
    "collapsed": false
   },
   "outputs": [],
   "source": []
  },
  {
   "cell_type": "code",
   "execution_count": null,
   "metadata": {
    "collapsed": true
   },
   "outputs": [],
   "source": []
  }
 ],
 "metadata": {
  "kernelspec": {
   "display_name": "Python 3",
   "language": "python",
   "name": "python3"
  },
  "language_info": {
   "codemirror_mode": {
    "name": "ipython",
    "version": 3
   },
   "file_extension": ".py",
   "mimetype": "text/x-python",
   "name": "python",
   "nbconvert_exporter": "python",
   "pygments_lexer": "ipython3",
   "version": "3.4.3+"
  }
 },
 "nbformat": 4,
 "nbformat_minor": 0
}
